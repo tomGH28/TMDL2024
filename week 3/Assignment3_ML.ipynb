{
 "cells": [
  {
   "cell_type": "markdown",
   "id": "43554d37",
   "metadata": {},
   "source": [
    "# Turing Machine and Deep Learning 2023\n",
    "\n",
    "## Assignment Unupervised ML\n",
    "\n",
    "This notebook is meant for you to review and reflect on the content of Lecture 3, which was mainly about unsupervised learning problems. As with last week, this notebook should not be too much quantitative work (lines of code) but keep in mind that running this notebook may take a longer time than you may be used to for python programs (*training good models take time!*) \n",
    "\n",
    "### Handing in your Assignment\n",
    "\n",
    "Git is an invaluable resource to researchers and developers, and thus for this course, all course material will be (additionally) shared on GitHub. Though there is a tiny bit of a learning curve, this is worth the effort. To hand in your assignment (applicable to all weeks):\n",
    "\n",
    "1. Create a folder called \"Week 2\" and copy this notebook and any other files or data that may be needed.\n",
    "2. Finish the notebook and commit and push regularly. Your final commit before the deadline will be graded. \n",
    "\n",
    "\n",
    "### Grading\n",
    "\n",
    "Each one of the (sub-)questions below will be graded either 0 (insufficient), 1 (sufficient) or 2 (good). If $N$ is the number of sub-questions, and $p_i$ is your score for sub-question $i$, your total grade $G$ for this assignment is:\n",
    "$$G=\\frac{1}{2 N}\\sum_{i=0}^{N}p_i$$"
   ]
  },
  {
   "cell_type": "code",
   "execution_count": 1,
   "id": "52fbab8b",
   "metadata": {},
   "outputs": [],
   "source": [
    "# load common libraries\n",
    "import numpy as np                 # maths\n",
    "import matplotlib.pyplot as plt    # plotting\n",
    "import pandas as pd                # data manipulation\n",
    "from tqdm import tqdm              # loading bar\n",
    "from time import perf_counter      # timer"
   ]
  },
  {
   "cell_type": "markdown",
   "id": "bf4c3a0a",
   "metadata": {},
   "source": [
    "# Q1 Loading and preprocessing data\n",
    "\n",
    "In this repository, you should find a file called `tmdb_5000_movies.csv` which is information from a subset of movies on The Movie Database."
   ]
  },
  {
   "cell_type": "markdown",
   "id": "40715541",
   "metadata": {},
   "source": [
    "### Q.1.1 \n",
    "Use pandas to read in the csv file (refer to [read_csv](https://pandas.pydata.org/docs/reference/api/pandas.read_csv.html) if you're unfamiliar)."
   ]
  },
  {
   "cell_type": "code",
   "execution_count": 2,
   "id": "c10a5202",
   "metadata": {},
   "outputs": [
    {
     "data": {
      "text/html": [
       "<div>\n",
       "<style scoped>\n",
       "    .dataframe tbody tr th:only-of-type {\n",
       "        vertical-align: middle;\n",
       "    }\n",
       "\n",
       "    .dataframe tbody tr th {\n",
       "        vertical-align: top;\n",
       "    }\n",
       "\n",
       "    .dataframe thead th {\n",
       "        text-align: right;\n",
       "    }\n",
       "</style>\n",
       "<table border=\"1\" class=\"dataframe\">\n",
       "  <thead>\n",
       "    <tr style=\"text-align: right;\">\n",
       "      <th></th>\n",
       "      <th>budget</th>\n",
       "      <th>genres</th>\n",
       "      <th>homepage</th>\n",
       "      <th>id</th>\n",
       "      <th>keywords</th>\n",
       "      <th>original_language</th>\n",
       "      <th>original_title</th>\n",
       "      <th>overview</th>\n",
       "      <th>popularity</th>\n",
       "      <th>production_companies</th>\n",
       "      <th>production_countries</th>\n",
       "      <th>release_date</th>\n",
       "      <th>revenue</th>\n",
       "      <th>runtime</th>\n",
       "      <th>spoken_languages</th>\n",
       "      <th>status</th>\n",
       "      <th>tagline</th>\n",
       "      <th>title</th>\n",
       "      <th>vote_average</th>\n",
       "      <th>vote_count</th>\n",
       "    </tr>\n",
       "  </thead>\n",
       "  <tbody>\n",
       "    <tr>\n",
       "      <th>0</th>\n",
       "      <td>237000000</td>\n",
       "      <td>[{\"id\": 28, \"name\": \"Action\"}, {\"id\": 12, \"nam...</td>\n",
       "      <td>http://www.avatarmovie.com/</td>\n",
       "      <td>19995</td>\n",
       "      <td>[{\"id\": 1463, \"name\": \"culture clash\"}, {\"id\":...</td>\n",
       "      <td>en</td>\n",
       "      <td>Avatar</td>\n",
       "      <td>In the 22nd century, a paraplegic Marine is di...</td>\n",
       "      <td>150.437577</td>\n",
       "      <td>[{\"name\": \"Ingenious Film Partners\", \"id\": 289...</td>\n",
       "      <td>[{\"iso_3166_1\": \"US\", \"name\": \"United States o...</td>\n",
       "      <td>2009-12-10</td>\n",
       "      <td>2787965087</td>\n",
       "      <td>162.0</td>\n",
       "      <td>[{\"iso_639_1\": \"en\", \"name\": \"English\"}, {\"iso...</td>\n",
       "      <td>Released</td>\n",
       "      <td>Enter the World of Pandora.</td>\n",
       "      <td>Avatar</td>\n",
       "      <td>7.2</td>\n",
       "      <td>11800</td>\n",
       "    </tr>\n",
       "    <tr>\n",
       "      <th>1</th>\n",
       "      <td>300000000</td>\n",
       "      <td>[{\"id\": 12, \"name\": \"Adventure\"}, {\"id\": 14, \"...</td>\n",
       "      <td>http://disney.go.com/disneypictures/pirates/</td>\n",
       "      <td>285</td>\n",
       "      <td>[{\"id\": 270, \"name\": \"ocean\"}, {\"id\": 726, \"na...</td>\n",
       "      <td>en</td>\n",
       "      <td>Pirates of the Caribbean: At World's End</td>\n",
       "      <td>Captain Barbossa, long believed to be dead, ha...</td>\n",
       "      <td>139.082615</td>\n",
       "      <td>[{\"name\": \"Walt Disney Pictures\", \"id\": 2}, {\"...</td>\n",
       "      <td>[{\"iso_3166_1\": \"US\", \"name\": \"United States o...</td>\n",
       "      <td>2007-05-19</td>\n",
       "      <td>961000000</td>\n",
       "      <td>169.0</td>\n",
       "      <td>[{\"iso_639_1\": \"en\", \"name\": \"English\"}]</td>\n",
       "      <td>Released</td>\n",
       "      <td>At the end of the world, the adventure begins.</td>\n",
       "      <td>Pirates of the Caribbean: At World's End</td>\n",
       "      <td>6.9</td>\n",
       "      <td>4500</td>\n",
       "    </tr>\n",
       "    <tr>\n",
       "      <th>2</th>\n",
       "      <td>245000000</td>\n",
       "      <td>[{\"id\": 28, \"name\": \"Action\"}, {\"id\": 12, \"nam...</td>\n",
       "      <td>http://www.sonypictures.com/movies/spectre/</td>\n",
       "      <td>206647</td>\n",
       "      <td>[{\"id\": 470, \"name\": \"spy\"}, {\"id\": 818, \"name...</td>\n",
       "      <td>en</td>\n",
       "      <td>Spectre</td>\n",
       "      <td>A cryptic message from Bond’s past sends him o...</td>\n",
       "      <td>107.376788</td>\n",
       "      <td>[{\"name\": \"Columbia Pictures\", \"id\": 5}, {\"nam...</td>\n",
       "      <td>[{\"iso_3166_1\": \"GB\", \"name\": \"United Kingdom\"...</td>\n",
       "      <td>2015-10-26</td>\n",
       "      <td>880674609</td>\n",
       "      <td>148.0</td>\n",
       "      <td>[{\"iso_639_1\": \"fr\", \"name\": \"Fran\\u00e7ais\"},...</td>\n",
       "      <td>Released</td>\n",
       "      <td>A Plan No One Escapes</td>\n",
       "      <td>Spectre</td>\n",
       "      <td>6.3</td>\n",
       "      <td>4466</td>\n",
       "    </tr>\n",
       "    <tr>\n",
       "      <th>3</th>\n",
       "      <td>250000000</td>\n",
       "      <td>[{\"id\": 28, \"name\": \"Action\"}, {\"id\": 80, \"nam...</td>\n",
       "      <td>http://www.thedarkknightrises.com/</td>\n",
       "      <td>49026</td>\n",
       "      <td>[{\"id\": 849, \"name\": \"dc comics\"}, {\"id\": 853,...</td>\n",
       "      <td>en</td>\n",
       "      <td>The Dark Knight Rises</td>\n",
       "      <td>Following the death of District Attorney Harve...</td>\n",
       "      <td>112.312950</td>\n",
       "      <td>[{\"name\": \"Legendary Pictures\", \"id\": 923}, {\"...</td>\n",
       "      <td>[{\"iso_3166_1\": \"US\", \"name\": \"United States o...</td>\n",
       "      <td>2012-07-16</td>\n",
       "      <td>1084939099</td>\n",
       "      <td>165.0</td>\n",
       "      <td>[{\"iso_639_1\": \"en\", \"name\": \"English\"}]</td>\n",
       "      <td>Released</td>\n",
       "      <td>The Legend Ends</td>\n",
       "      <td>The Dark Knight Rises</td>\n",
       "      <td>7.6</td>\n",
       "      <td>9106</td>\n",
       "    </tr>\n",
       "    <tr>\n",
       "      <th>4</th>\n",
       "      <td>260000000</td>\n",
       "      <td>[{\"id\": 28, \"name\": \"Action\"}, {\"id\": 12, \"nam...</td>\n",
       "      <td>http://movies.disney.com/john-carter</td>\n",
       "      <td>49529</td>\n",
       "      <td>[{\"id\": 818, \"name\": \"based on novel\"}, {\"id\":...</td>\n",
       "      <td>en</td>\n",
       "      <td>John Carter</td>\n",
       "      <td>John Carter is a war-weary, former military ca...</td>\n",
       "      <td>43.926995</td>\n",
       "      <td>[{\"name\": \"Walt Disney Pictures\", \"id\": 2}]</td>\n",
       "      <td>[{\"iso_3166_1\": \"US\", \"name\": \"United States o...</td>\n",
       "      <td>2012-03-07</td>\n",
       "      <td>284139100</td>\n",
       "      <td>132.0</td>\n",
       "      <td>[{\"iso_639_1\": \"en\", \"name\": \"English\"}]</td>\n",
       "      <td>Released</td>\n",
       "      <td>Lost in our world, found in another.</td>\n",
       "      <td>John Carter</td>\n",
       "      <td>6.1</td>\n",
       "      <td>2124</td>\n",
       "    </tr>\n",
       "    <tr>\n",
       "      <th>...</th>\n",
       "      <td>...</td>\n",
       "      <td>...</td>\n",
       "      <td>...</td>\n",
       "      <td>...</td>\n",
       "      <td>...</td>\n",
       "      <td>...</td>\n",
       "      <td>...</td>\n",
       "      <td>...</td>\n",
       "      <td>...</td>\n",
       "      <td>...</td>\n",
       "      <td>...</td>\n",
       "      <td>...</td>\n",
       "      <td>...</td>\n",
       "      <td>...</td>\n",
       "      <td>...</td>\n",
       "      <td>...</td>\n",
       "      <td>...</td>\n",
       "      <td>...</td>\n",
       "      <td>...</td>\n",
       "      <td>...</td>\n",
       "    </tr>\n",
       "    <tr>\n",
       "      <th>4798</th>\n",
       "      <td>220000</td>\n",
       "      <td>[{\"id\": 28, \"name\": \"Action\"}, {\"id\": 80, \"nam...</td>\n",
       "      <td>NaN</td>\n",
       "      <td>9367</td>\n",
       "      <td>[{\"id\": 5616, \"name\": \"united states\\u2013mexi...</td>\n",
       "      <td>es</td>\n",
       "      <td>El Mariachi</td>\n",
       "      <td>El Mariachi just wants to play his guitar and ...</td>\n",
       "      <td>14.269792</td>\n",
       "      <td>[{\"name\": \"Columbia Pictures\", \"id\": 5}]</td>\n",
       "      <td>[{\"iso_3166_1\": \"MX\", \"name\": \"Mexico\"}, {\"iso...</td>\n",
       "      <td>1992-09-04</td>\n",
       "      <td>2040920</td>\n",
       "      <td>81.0</td>\n",
       "      <td>[{\"iso_639_1\": \"es\", \"name\": \"Espa\\u00f1ol\"}]</td>\n",
       "      <td>Released</td>\n",
       "      <td>He didn't come looking for trouble, but troubl...</td>\n",
       "      <td>El Mariachi</td>\n",
       "      <td>6.6</td>\n",
       "      <td>238</td>\n",
       "    </tr>\n",
       "    <tr>\n",
       "      <th>4799</th>\n",
       "      <td>9000</td>\n",
       "      <td>[{\"id\": 35, \"name\": \"Comedy\"}, {\"id\": 10749, \"...</td>\n",
       "      <td>NaN</td>\n",
       "      <td>72766</td>\n",
       "      <td>[]</td>\n",
       "      <td>en</td>\n",
       "      <td>Newlyweds</td>\n",
       "      <td>A newlywed couple's honeymoon is upended by th...</td>\n",
       "      <td>0.642552</td>\n",
       "      <td>[]</td>\n",
       "      <td>[]</td>\n",
       "      <td>2011-12-26</td>\n",
       "      <td>0</td>\n",
       "      <td>85.0</td>\n",
       "      <td>[]</td>\n",
       "      <td>Released</td>\n",
       "      <td>A newlywed couple's honeymoon is upended by th...</td>\n",
       "      <td>Newlyweds</td>\n",
       "      <td>5.9</td>\n",
       "      <td>5</td>\n",
       "    </tr>\n",
       "    <tr>\n",
       "      <th>4800</th>\n",
       "      <td>0</td>\n",
       "      <td>[{\"id\": 35, \"name\": \"Comedy\"}, {\"id\": 18, \"nam...</td>\n",
       "      <td>http://www.hallmarkchannel.com/signedsealeddel...</td>\n",
       "      <td>231617</td>\n",
       "      <td>[{\"id\": 248, \"name\": \"date\"}, {\"id\": 699, \"nam...</td>\n",
       "      <td>en</td>\n",
       "      <td>Signed, Sealed, Delivered</td>\n",
       "      <td>\"Signed, Sealed, Delivered\" introduces a dedic...</td>\n",
       "      <td>1.444476</td>\n",
       "      <td>[{\"name\": \"Front Street Pictures\", \"id\": 3958}...</td>\n",
       "      <td>[{\"iso_3166_1\": \"US\", \"name\": \"United States o...</td>\n",
       "      <td>2013-10-13</td>\n",
       "      <td>0</td>\n",
       "      <td>120.0</td>\n",
       "      <td>[{\"iso_639_1\": \"en\", \"name\": \"English\"}]</td>\n",
       "      <td>Released</td>\n",
       "      <td>NaN</td>\n",
       "      <td>Signed, Sealed, Delivered</td>\n",
       "      <td>7.0</td>\n",
       "      <td>6</td>\n",
       "    </tr>\n",
       "    <tr>\n",
       "      <th>4801</th>\n",
       "      <td>0</td>\n",
       "      <td>[]</td>\n",
       "      <td>http://shanghaicalling.com/</td>\n",
       "      <td>126186</td>\n",
       "      <td>[]</td>\n",
       "      <td>en</td>\n",
       "      <td>Shanghai Calling</td>\n",
       "      <td>When ambitious New York attorney Sam is sent t...</td>\n",
       "      <td>0.857008</td>\n",
       "      <td>[]</td>\n",
       "      <td>[{\"iso_3166_1\": \"US\", \"name\": \"United States o...</td>\n",
       "      <td>2012-05-03</td>\n",
       "      <td>0</td>\n",
       "      <td>98.0</td>\n",
       "      <td>[{\"iso_639_1\": \"en\", \"name\": \"English\"}]</td>\n",
       "      <td>Released</td>\n",
       "      <td>A New Yorker in Shanghai</td>\n",
       "      <td>Shanghai Calling</td>\n",
       "      <td>5.7</td>\n",
       "      <td>7</td>\n",
       "    </tr>\n",
       "    <tr>\n",
       "      <th>4802</th>\n",
       "      <td>0</td>\n",
       "      <td>[{\"id\": 99, \"name\": \"Documentary\"}]</td>\n",
       "      <td>NaN</td>\n",
       "      <td>25975</td>\n",
       "      <td>[{\"id\": 1523, \"name\": \"obsession\"}, {\"id\": 224...</td>\n",
       "      <td>en</td>\n",
       "      <td>My Date with Drew</td>\n",
       "      <td>Ever since the second grade when he first saw ...</td>\n",
       "      <td>1.929883</td>\n",
       "      <td>[{\"name\": \"rusty bear entertainment\", \"id\": 87...</td>\n",
       "      <td>[{\"iso_3166_1\": \"US\", \"name\": \"United States o...</td>\n",
       "      <td>2005-08-05</td>\n",
       "      <td>0</td>\n",
       "      <td>90.0</td>\n",
       "      <td>[{\"iso_639_1\": \"en\", \"name\": \"English\"}]</td>\n",
       "      <td>Released</td>\n",
       "      <td>NaN</td>\n",
       "      <td>My Date with Drew</td>\n",
       "      <td>6.3</td>\n",
       "      <td>16</td>\n",
       "    </tr>\n",
       "  </tbody>\n",
       "</table>\n",
       "<p>4803 rows × 20 columns</p>\n",
       "</div>"
      ],
      "text/plain": [
       "         budget                                             genres  \\\n",
       "0     237000000  [{\"id\": 28, \"name\": \"Action\"}, {\"id\": 12, \"nam...   \n",
       "1     300000000  [{\"id\": 12, \"name\": \"Adventure\"}, {\"id\": 14, \"...   \n",
       "2     245000000  [{\"id\": 28, \"name\": \"Action\"}, {\"id\": 12, \"nam...   \n",
       "3     250000000  [{\"id\": 28, \"name\": \"Action\"}, {\"id\": 80, \"nam...   \n",
       "4     260000000  [{\"id\": 28, \"name\": \"Action\"}, {\"id\": 12, \"nam...   \n",
       "...         ...                                                ...   \n",
       "4798     220000  [{\"id\": 28, \"name\": \"Action\"}, {\"id\": 80, \"nam...   \n",
       "4799       9000  [{\"id\": 35, \"name\": \"Comedy\"}, {\"id\": 10749, \"...   \n",
       "4800          0  [{\"id\": 35, \"name\": \"Comedy\"}, {\"id\": 18, \"nam...   \n",
       "4801          0                                                 []   \n",
       "4802          0                [{\"id\": 99, \"name\": \"Documentary\"}]   \n",
       "\n",
       "                                               homepage      id  \\\n",
       "0                           http://www.avatarmovie.com/   19995   \n",
       "1          http://disney.go.com/disneypictures/pirates/     285   \n",
       "2           http://www.sonypictures.com/movies/spectre/  206647   \n",
       "3                    http://www.thedarkknightrises.com/   49026   \n",
       "4                  http://movies.disney.com/john-carter   49529   \n",
       "...                                                 ...     ...   \n",
       "4798                                                NaN    9367   \n",
       "4799                                                NaN   72766   \n",
       "4800  http://www.hallmarkchannel.com/signedsealeddel...  231617   \n",
       "4801                        http://shanghaicalling.com/  126186   \n",
       "4802                                                NaN   25975   \n",
       "\n",
       "                                               keywords original_language  \\\n",
       "0     [{\"id\": 1463, \"name\": \"culture clash\"}, {\"id\":...                en   \n",
       "1     [{\"id\": 270, \"name\": \"ocean\"}, {\"id\": 726, \"na...                en   \n",
       "2     [{\"id\": 470, \"name\": \"spy\"}, {\"id\": 818, \"name...                en   \n",
       "3     [{\"id\": 849, \"name\": \"dc comics\"}, {\"id\": 853,...                en   \n",
       "4     [{\"id\": 818, \"name\": \"based on novel\"}, {\"id\":...                en   \n",
       "...                                                 ...               ...   \n",
       "4798  [{\"id\": 5616, \"name\": \"united states\\u2013mexi...                es   \n",
       "4799                                                 []                en   \n",
       "4800  [{\"id\": 248, \"name\": \"date\"}, {\"id\": 699, \"nam...                en   \n",
       "4801                                                 []                en   \n",
       "4802  [{\"id\": 1523, \"name\": \"obsession\"}, {\"id\": 224...                en   \n",
       "\n",
       "                                original_title  \\\n",
       "0                                       Avatar   \n",
       "1     Pirates of the Caribbean: At World's End   \n",
       "2                                      Spectre   \n",
       "3                        The Dark Knight Rises   \n",
       "4                                  John Carter   \n",
       "...                                        ...   \n",
       "4798                               El Mariachi   \n",
       "4799                                 Newlyweds   \n",
       "4800                 Signed, Sealed, Delivered   \n",
       "4801                          Shanghai Calling   \n",
       "4802                         My Date with Drew   \n",
       "\n",
       "                                               overview  popularity  \\\n",
       "0     In the 22nd century, a paraplegic Marine is di...  150.437577   \n",
       "1     Captain Barbossa, long believed to be dead, ha...  139.082615   \n",
       "2     A cryptic message from Bond’s past sends him o...  107.376788   \n",
       "3     Following the death of District Attorney Harve...  112.312950   \n",
       "4     John Carter is a war-weary, former military ca...   43.926995   \n",
       "...                                                 ...         ...   \n",
       "4798  El Mariachi just wants to play his guitar and ...   14.269792   \n",
       "4799  A newlywed couple's honeymoon is upended by th...    0.642552   \n",
       "4800  \"Signed, Sealed, Delivered\" introduces a dedic...    1.444476   \n",
       "4801  When ambitious New York attorney Sam is sent t...    0.857008   \n",
       "4802  Ever since the second grade when he first saw ...    1.929883   \n",
       "\n",
       "                                   production_companies  \\\n",
       "0     [{\"name\": \"Ingenious Film Partners\", \"id\": 289...   \n",
       "1     [{\"name\": \"Walt Disney Pictures\", \"id\": 2}, {\"...   \n",
       "2     [{\"name\": \"Columbia Pictures\", \"id\": 5}, {\"nam...   \n",
       "3     [{\"name\": \"Legendary Pictures\", \"id\": 923}, {\"...   \n",
       "4           [{\"name\": \"Walt Disney Pictures\", \"id\": 2}]   \n",
       "...                                                 ...   \n",
       "4798           [{\"name\": \"Columbia Pictures\", \"id\": 5}]   \n",
       "4799                                                 []   \n",
       "4800  [{\"name\": \"Front Street Pictures\", \"id\": 3958}...   \n",
       "4801                                                 []   \n",
       "4802  [{\"name\": \"rusty bear entertainment\", \"id\": 87...   \n",
       "\n",
       "                                   production_countries release_date  \\\n",
       "0     [{\"iso_3166_1\": \"US\", \"name\": \"United States o...   2009-12-10   \n",
       "1     [{\"iso_3166_1\": \"US\", \"name\": \"United States o...   2007-05-19   \n",
       "2     [{\"iso_3166_1\": \"GB\", \"name\": \"United Kingdom\"...   2015-10-26   \n",
       "3     [{\"iso_3166_1\": \"US\", \"name\": \"United States o...   2012-07-16   \n",
       "4     [{\"iso_3166_1\": \"US\", \"name\": \"United States o...   2012-03-07   \n",
       "...                                                 ...          ...   \n",
       "4798  [{\"iso_3166_1\": \"MX\", \"name\": \"Mexico\"}, {\"iso...   1992-09-04   \n",
       "4799                                                 []   2011-12-26   \n",
       "4800  [{\"iso_3166_1\": \"US\", \"name\": \"United States o...   2013-10-13   \n",
       "4801  [{\"iso_3166_1\": \"US\", \"name\": \"United States o...   2012-05-03   \n",
       "4802  [{\"iso_3166_1\": \"US\", \"name\": \"United States o...   2005-08-05   \n",
       "\n",
       "         revenue  runtime                                   spoken_languages  \\\n",
       "0     2787965087    162.0  [{\"iso_639_1\": \"en\", \"name\": \"English\"}, {\"iso...   \n",
       "1      961000000    169.0           [{\"iso_639_1\": \"en\", \"name\": \"English\"}]   \n",
       "2      880674609    148.0  [{\"iso_639_1\": \"fr\", \"name\": \"Fran\\u00e7ais\"},...   \n",
       "3     1084939099    165.0           [{\"iso_639_1\": \"en\", \"name\": \"English\"}]   \n",
       "4      284139100    132.0           [{\"iso_639_1\": \"en\", \"name\": \"English\"}]   \n",
       "...          ...      ...                                                ...   \n",
       "4798     2040920     81.0      [{\"iso_639_1\": \"es\", \"name\": \"Espa\\u00f1ol\"}]   \n",
       "4799           0     85.0                                                 []   \n",
       "4800           0    120.0           [{\"iso_639_1\": \"en\", \"name\": \"English\"}]   \n",
       "4801           0     98.0           [{\"iso_639_1\": \"en\", \"name\": \"English\"}]   \n",
       "4802           0     90.0           [{\"iso_639_1\": \"en\", \"name\": \"English\"}]   \n",
       "\n",
       "        status                                            tagline  \\\n",
       "0     Released                        Enter the World of Pandora.   \n",
       "1     Released     At the end of the world, the adventure begins.   \n",
       "2     Released                              A Plan No One Escapes   \n",
       "3     Released                                    The Legend Ends   \n",
       "4     Released               Lost in our world, found in another.   \n",
       "...        ...                                                ...   \n",
       "4798  Released  He didn't come looking for trouble, but troubl...   \n",
       "4799  Released  A newlywed couple's honeymoon is upended by th...   \n",
       "4800  Released                                                NaN   \n",
       "4801  Released                           A New Yorker in Shanghai   \n",
       "4802  Released                                                NaN   \n",
       "\n",
       "                                         title  vote_average  vote_count  \n",
       "0                                       Avatar           7.2       11800  \n",
       "1     Pirates of the Caribbean: At World's End           6.9        4500  \n",
       "2                                      Spectre           6.3        4466  \n",
       "3                        The Dark Knight Rises           7.6        9106  \n",
       "4                                  John Carter           6.1        2124  \n",
       "...                                        ...           ...         ...  \n",
       "4798                               El Mariachi           6.6         238  \n",
       "4799                                 Newlyweds           5.9           5  \n",
       "4800                 Signed, Sealed, Delivered           7.0           6  \n",
       "4801                          Shanghai Calling           5.7           7  \n",
       "4802                         My Date with Drew           6.3          16  \n",
       "\n",
       "[4803 rows x 20 columns]"
      ]
     },
     "execution_count": 2,
     "metadata": {},
     "output_type": "execute_result"
    }
   ],
   "source": [
    "df = pd.read_csv(\"/Users/tomsagasser/Downloads/tmdb_5000_movies TMDL 2024.csv\")\n",
    "df"
   ]
  },
  {
   "cell_type": "markdown",
   "id": "1915f1f7",
   "metadata": {},
   "source": [
    "View information about the dataset including datatypes and null values"
   ]
  },
  {
   "cell_type": "code",
   "execution_count": 3,
   "id": "c173d066",
   "metadata": {},
   "outputs": [
    {
     "name": "stdout",
     "output_type": "stream",
     "text": [
      "<class 'pandas.core.frame.DataFrame'>\n",
      "RangeIndex: 4803 entries, 0 to 4802\n",
      "Data columns (total 20 columns):\n",
      " #   Column                Non-Null Count  Dtype  \n",
      "---  ------                --------------  -----  \n",
      " 0   budget                4803 non-null   int64  \n",
      " 1   genres                4803 non-null   object \n",
      " 2   homepage              1712 non-null   object \n",
      " 3   id                    4803 non-null   int64  \n",
      " 4   keywords              4803 non-null   object \n",
      " 5   original_language     4803 non-null   object \n",
      " 6   original_title        4803 non-null   object \n",
      " 7   overview              4800 non-null   object \n",
      " 8   popularity            4803 non-null   float64\n",
      " 9   production_companies  4803 non-null   object \n",
      " 10  production_countries  4803 non-null   object \n",
      " 11  release_date          4802 non-null   object \n",
      " 12  revenue               4803 non-null   int64  \n",
      " 13  runtime               4801 non-null   float64\n",
      " 14  spoken_languages      4803 non-null   object \n",
      " 15  status                4803 non-null   object \n",
      " 16  tagline               3959 non-null   object \n",
      " 17  title                 4803 non-null   object \n",
      " 18  vote_average          4803 non-null   float64\n",
      " 19  vote_count            4803 non-null   int64  \n",
      "dtypes: float64(3), int64(4), object(13)\n",
      "memory usage: 750.6+ KB\n"
     ]
    }
   ],
   "source": [
    "df.info()"
   ]
  },
  {
   "cell_type": "markdown",
   "id": "4e64a24f",
   "metadata": {},
   "source": [
    "**Q.1.1.2** What columns have null values above? How would you be able to estimate the missing values?"
   ]
  },
  {
   "cell_type": "markdown",
   "id": "224ab467",
   "metadata": {},
   "source": [
    "homepage with 3091 null values (4803 - 1712), cannot estimate, maybe replace null values with \"No homepage\""
   ]
  },
  {
   "cell_type": "markdown",
   "id": "525d9b67",
   "metadata": {},
   "source": [
    "overview with 3 null values (4803 - 4800), fill in movie desciptions from other sources (i.e. wikipedia)"
   ]
  },
  {
   "cell_type": "markdown",
   "id": "f07e37f6",
   "metadata": {},
   "source": [
    "release_date with 1 null value (4803 - 4802), look up release date through simple web search. if non-existent, keep blank"
   ]
  },
  {
   "cell_type": "markdown",
   "id": "a85597a9",
   "metadata": {},
   "source": [
    "runtime with 2 null values (4803 - 4801), estimate with avg runtime of all movies or all movies of that genre"
   ]
  },
  {
   "cell_type": "markdown",
   "id": "2660fe51",
   "metadata": {},
   "source": [
    "tagline with 844 null values (4803 - 3959), most likely best to leave as null values as estimates are not useful"
   ]
  },
  {
   "cell_type": "markdown",
   "id": "83863820",
   "metadata": {},
   "source": [
    "### Q1.2\n",
    "For this notebook, we're only interested in a few columns, specifically title, overview and genres. Set df to only contain those columns."
   ]
  },
  {
   "cell_type": "code",
   "execution_count": 6,
   "id": "4e3f0439",
   "metadata": {},
   "outputs": [
    {
     "name": "stdout",
     "output_type": "stream",
     "text": [
      "<class 'pandas.core.frame.DataFrame'>\n",
      "RangeIndex: 4803 entries, 0 to 4802\n",
      "Data columns (total 3 columns):\n",
      " #   Column    Non-Null Count  Dtype \n",
      "---  ------    --------------  ----- \n",
      " 0   title     4803 non-null   object\n",
      " 1   overview  4800 non-null   object\n",
      " 2   genres    4803 non-null   object\n",
      "dtypes: object(3)\n",
      "memory usage: 112.7+ KB\n"
     ]
    }
   ],
   "source": [
    "df = df[['title', 'overview', 'genres']]\n",
    "df.info() # print out df info to verify"
   ]
  },
  {
   "cell_type": "markdown",
   "id": "b596e86b",
   "metadata": {},
   "source": [
    "### Q1.3\n",
    "We see that some movies do not have an overview. Drop them from the table and reset the index (set `drop=True`)."
   ]
  },
  {
   "cell_type": "code",
   "execution_count": 7,
   "id": "a06e4f6a",
   "metadata": {},
   "outputs": [],
   "source": [
    "df = df.dropna(subset=['overview'])# drop na values\n",
    "df = df.reset_index(drop=True) # reset index"
   ]
  },
  {
   "cell_type": "markdown",
   "id": "759df3a2",
   "metadata": {},
   "source": [
    "# Q2 One-hot encodings\n",
    "The following code processes the genres (which you see above are list of dictionaries) and encodes them into one-hot labels.\n",
    "\n",
    "Remember, since we cannot do maths on text strings, we must change these words to numbers. Here, we create one-hot encodings for the genres. Assume we have three genres $[G_1, G_2, G_3]$. If a movie $M_1$ is tagged with genre $G_1$, the encoding is $[1,0,0]$. If another movie $M_2$ is tagged with $G2$, the encoding becomes $[0,1,0]$. Other encodings are possible as well, but one-hot encoding quite common and useful for many other tasks. In this case, if a movie is tagged with more than one genre, we'll just take a random one and encode that into a one-hot label.\n",
    "\n",
    "### Q2.1 Processing genres\n",
    "\n",
    "Finish the following code that processes genres into one-hot encodings."
   ]
  },
  {
   "cell_type": "code",
   "execution_count": 165,
   "id": "dba05feb",
   "metadata": {},
   "outputs": [
    {
     "name": "stderr",
     "output_type": "stream",
     "text": [
      "100%|███████████████████████████████████| 4707/4707 [00:00<00:00, 425587.72it/s]\n"
     ]
    }
   ],
   "source": [
    "np.random.seed(0)\n",
    "\n",
    "def process_genre_string(gs):\n",
    "    \"\"\" Processes genres into a single item from a list\"\"\"\n",
    "    gs = eval(gs)\n",
    "    gs = [x['name'] for x in gs]\n",
    "    genre = \"Unknown\"\n",
    "    if gs:\n",
    "        genre = np.random.choice(gs) # choose random entry\n",
    "    return genre\n",
    "\n",
    "# TODO: Fill in\n",
    "def encode_labels(label, unique_labels):\n",
    "    \"\"\" Encodes text labels into a one-hot encoded list\n",
    "        with possibly more than one one-hot per list.\n",
    "        :param label: the label you want to one-hot encode\n",
    "        :unique_labels: the vocabulary\n",
    "    \"\"\"\n",
    "    out = np.zeros(len(unique_labels))\n",
    "    label_index = unique_labels.index(label)\n",
    "    out[label_index] = 1\n",
    "    return out\n",
    "\n",
    "\n",
    "processed_genres = [process_genre_string(gs) for gs in df['genres']]\n",
    "\n",
    "# sort and remove duplicates to get vocabulary\n",
    "unique_genres = sorted(list(set(processed_genres)))\n",
    "\n",
    "df[\"proc_genres\"] = processed_genres\n",
    "\n",
    "encoded_labels = []\n",
    "for genre in tqdm(df[\"proc_genres\"], total=len(df)):\n",
    "    encoded_labels.append(encode_labels(genre, unique_genres))\n",
    "\n",
    "df[\"one_hot_genres\"] = encoded_labels"
   ]
  },
  {
   "cell_type": "markdown",
   "id": "d17501a9",
   "metadata": {},
   "source": [
    "Verify that one-hot encodings are indeed as expected"
   ]
  },
  {
   "cell_type": "code",
   "execution_count": 15,
   "id": "3b64854b",
   "metadata": {},
   "outputs": [
    {
     "data": {
      "text/plain": [
       "array([1., 0., 0., 0., 0., 0., 0., 0., 0., 0., 0., 0., 0., 0., 0., 0., 0.,\n",
       "       0., 0., 0., 0.])"
      ]
     },
     "execution_count": 15,
     "metadata": {},
     "output_type": "execute_result"
    }
   ],
   "source": [
    "df[\"one_hot_genres\"][0]"
   ]
  },
  {
   "cell_type": "code",
   "execution_count": 16,
   "id": "ba5f4672",
   "metadata": {},
   "outputs": [
    {
     "data": {
      "text/plain": [
       "array([0., 0., 0., 0., 0., 0., 0., 0., 1., 0., 0., 0., 0., 0., 0., 0., 0.,\n",
       "       0., 0., 0., 0.])"
      ]
     },
     "execution_count": 16,
     "metadata": {},
     "output_type": "execute_result"
    }
   ],
   "source": [
    "df[\"one_hot_genres\"][1]"
   ]
  },
  {
   "cell_type": "markdown",
   "id": "b0a83ece",
   "metadata": {},
   "source": [
    "### Q2.2 Processing Overviews\n",
    "Next, we process the overviews. First, we remove all punctuation for the sake of simplicity and change each overview to use only lowercase. Then we need to see how long the overviews are in terms of numbers of words. We can do this with a histogram.\n",
    "\n",
    "**Q2.2.1** Finish the following code"
   ]
  },
  {
   "cell_type": "code",
   "execution_count": 58,
   "id": "bfd51c53",
   "metadata": {},
   "outputs": [
    {
     "data": {
      "image/png": "[encoded data removed]",
      "text/plain": [
       "<Figure size 640x480 with 1 Axes>"
      ]
     },
     "metadata": {},
     "output_type": "display_data"
    }
   ],
   "source": [
    "import re\n",
    "def remove_punctuation(text):\n",
    "    \"\"\" Only retains letters, numbers, underscores and whitespace \"\"\"\n",
    "    pattern = r'[^\\w\\s]'\n",
    "    return re.sub(pattern, '', text)\n",
    "\n",
    "processed_overviews = []\n",
    "\n",
    "# loop over df, remove punctuation, make words lowercase and add it to a new column\n",
    "\n",
    "for overview in df['overview']:\n",
    "    processed_text = remove_punctuation(overview.lower())\n",
    "    processed_overviews.append(processed_text)\n",
    "df[\"proc_overview\"] = processed_overviews\n",
    "\n",
    "\n",
    "# get the word lengths of each overview and store it in a list \n",
    "overview_lens = []\n",
    "for processed_text in df['proc_overview']:\n",
    "    word_count = len(processed_text.split())\n",
    "    overview_lens.append(word_count)\n",
    "df[\"overview_len\"] = overview_lens\n",
    "\n",
    "\n",
    "plt.hist(df[\"overview_len\"], bins=35, edgecolor = \"darkblue\", color = \"blue\")\n",
    "plt.title('Distribution of Overview Word Lengths')\n",
    "plt.xlabel('Word Length')\n",
    "plt.ylabel('Frequency')\n",
    "plt.show()"
   ]
  },
  {
   "cell_type": "markdown",
   "id": "58138594",
   "metadata": {},
   "source": [
    "**Q2.2.2** What is the shortest overview? What is the longest? In the next step, we need to decide on a standard length of all overviews -- this means dropping overviews less than some value, and truncating longer ones. What length would you choose to minimize the number of movies dropped and maximize the information (words) stored in the overviews?"
   ]
  },
  {
   "cell_type": "code",
   "execution_count": 35,
   "id": "b69d01b5",
   "metadata": {
    "scrolled": true
   },
   "outputs": [
    {
     "name": "stdout",
     "output_type": "stream",
     "text": [
      "0 175\n"
     ]
    }
   ],
   "source": [
    "print(min(overview_lens),max(overview_lens))"
   ]
  },
  {
   "cell_type": "markdown",
   "id": "a7543094",
   "metadata": {},
   "source": [
    "the shortest overview has 0 words and the longest has 175 words."
   ]
  },
  {
   "cell_type": "markdown",
   "id": "3b87f1af",
   "metadata": {},
   "source": [
    "i would choose 20-80 words as my range"
   ]
  },
  {
   "cell_type": "markdown",
   "id": "54e6cb90",
   "metadata": {},
   "source": [
    "### Q2.2.3\n",
    "Let's choose overviews of length 15 words. What this means is we need to discard movies that have overviews less than 15 (there are other ways of dealing with it, but this should be fine for now) and truncate the higher ones to the first 15 words."
   ]
  },
  {
   "cell_type": "code",
   "execution_count": 75,
   "id": "70854211",
   "metadata": {},
   "outputs": [
    {
     "data": {
      "text/html": [
       "<div>\n",
       "<style scoped>\n",
       "    .dataframe tbody tr th:only-of-type {\n",
       "        vertical-align: middle;\n",
       "    }\n",
       "\n",
       "    .dataframe tbody tr th {\n",
       "        vertical-align: top;\n",
       "    }\n",
       "\n",
       "    .dataframe thead th {\n",
       "        text-align: right;\n",
       "    }\n",
       "</style>\n",
       "<table border=\"1\" class=\"dataframe\">\n",
       "  <thead>\n",
       "    <tr style=\"text-align: right;\">\n",
       "      <th></th>\n",
       "      <th>title</th>\n",
       "      <th>proc_overview</th>\n",
       "      <th>overview_len</th>\n",
       "    </tr>\n",
       "  </thead>\n",
       "  <tbody>\n",
       "    <tr>\n",
       "      <th>0</th>\n",
       "      <td>Avatar</td>\n",
       "      <td>in the 22nd century a paraplegic marine is dis...</td>\n",
       "      <td>15</td>\n",
       "    </tr>\n",
       "    <tr>\n",
       "      <th>1</th>\n",
       "      <td>Pirates of the Caribbean: At World's End</td>\n",
       "      <td>captain barbossa long believed to be dead has ...</td>\n",
       "      <td>15</td>\n",
       "    </tr>\n",
       "    <tr>\n",
       "      <th>2</th>\n",
       "      <td>Spectre</td>\n",
       "      <td>a cryptic message from bonds past sends him on...</td>\n",
       "      <td>15</td>\n",
       "    </tr>\n",
       "    <tr>\n",
       "      <th>3</th>\n",
       "      <td>The Dark Knight Rises</td>\n",
       "      <td>following the death of district attorney harve...</td>\n",
       "      <td>15</td>\n",
       "    </tr>\n",
       "    <tr>\n",
       "      <th>4</th>\n",
       "      <td>John Carter</td>\n",
       "      <td>john carter is a warweary former military capt...</td>\n",
       "      <td>15</td>\n",
       "    </tr>\n",
       "    <tr>\n",
       "      <th>...</th>\n",
       "      <td>...</td>\n",
       "      <td>...</td>\n",
       "      <td>...</td>\n",
       "    </tr>\n",
       "    <tr>\n",
       "      <th>4794</th>\n",
       "      <td>Cavite</td>\n",
       "      <td>adam a security guard travels from california ...</td>\n",
       "      <td>15</td>\n",
       "    </tr>\n",
       "    <tr>\n",
       "      <th>4795</th>\n",
       "      <td>El Mariachi</td>\n",
       "      <td>el mariachi just wants to play his guitar and ...</td>\n",
       "      <td>15</td>\n",
       "    </tr>\n",
       "    <tr>\n",
       "      <th>4797</th>\n",
       "      <td>Signed, Sealed, Delivered</td>\n",
       "      <td>signed sealed delivered introduces a dedicated...</td>\n",
       "      <td>15</td>\n",
       "    </tr>\n",
       "    <tr>\n",
       "      <th>4798</th>\n",
       "      <td>Shanghai Calling</td>\n",
       "      <td>when ambitious new york attorney sam is sent t...</td>\n",
       "      <td>15</td>\n",
       "    </tr>\n",
       "    <tr>\n",
       "      <th>4799</th>\n",
       "      <td>My Date with Drew</td>\n",
       "      <td>ever since the second grade when he first saw ...</td>\n",
       "      <td>15</td>\n",
       "    </tr>\n",
       "  </tbody>\n",
       "</table>\n",
       "<p>4707 rows × 3 columns</p>\n",
       "</div>"
      ],
      "text/plain": [
       "                                         title  \\\n",
       "0                                       Avatar   \n",
       "1     Pirates of the Caribbean: At World's End   \n",
       "2                                      Spectre   \n",
       "3                        The Dark Knight Rises   \n",
       "4                                  John Carter   \n",
       "...                                        ...   \n",
       "4794                                    Cavite   \n",
       "4795                               El Mariachi   \n",
       "4797                 Signed, Sealed, Delivered   \n",
       "4798                          Shanghai Calling   \n",
       "4799                         My Date with Drew   \n",
       "\n",
       "                                          proc_overview  overview_len  \n",
       "0     in the 22nd century a paraplegic marine is dis...            15  \n",
       "1     captain barbossa long believed to be dead has ...            15  \n",
       "2     a cryptic message from bonds past sends him on...            15  \n",
       "3     following the death of district attorney harve...            15  \n",
       "4     john carter is a warweary former military capt...            15  \n",
       "...                                                 ...           ...  \n",
       "4794  adam a security guard travels from california ...            15  \n",
       "4795  el mariachi just wants to play his guitar and ...            15  \n",
       "4797  signed sealed delivered introduces a dedicated...            15  \n",
       "4798  when ambitious new york attorney sam is sent t...            15  \n",
       "4799  ever since the second grade when he first saw ...            15  \n",
       "\n",
       "[4707 rows x 3 columns]"
      ]
     },
     "execution_count": 75,
     "metadata": {},
     "output_type": "execute_result"
    }
   ],
   "source": [
    "token_len = 15 # number of words\n",
    "df = df[df['overview_len'] >= token_len]\n",
    "\n",
    "# split each proc_overview into a list of words, select the first token_len words, \n",
    "# and add the list of words back into df[\"proc_overview\"]\n",
    "truncated_overviews = []\n",
    "for overview in df['proc_overview']:\n",
    "    words = overview.split()\n",
    "    first_fifteen_words = words[:token_len]\n",
    "    truncated_overview = ' '.join(first_fifteen_words)\n",
    "    truncated_overviews.append(truncated_overview)\n",
    "\n",
    "df['proc_overview'] = truncated_overviews\n",
    "\n",
    "\n",
    "overview_lens = []\n",
    "for processed_text in df['proc_overview']:\n",
    "    word_count = len(processed_text.split()) \n",
    "    overview_lens.append(word_count)\n",
    "df[\"overview_len\"] = overview_lens\n",
    "df[\"overview_len\"]\n",
    "\n",
    "\n",
    "# print to verify\n",
    "df[[\"title\",\"proc_overview\",\"overview_len\"]]"
   ]
  },
  {
   "cell_type": "code",
   "execution_count": 74,
   "id": "394e04ad",
   "metadata": {},
   "outputs": [
    {
     "data": {
      "text/plain": [
       "0       15\n",
       "1       15\n",
       "2       15\n",
       "3       15\n",
       "4       15\n",
       "        ..\n",
       "4794    15\n",
       "4795    15\n",
       "4797    15\n",
       "4798    15\n",
       "4799    15\n",
       "Name: overview_len, Length: 4707, dtype: int64"
      ]
     },
     "execution_count": 74,
     "metadata": {},
     "output_type": "execute_result"
    }
   ],
   "source": []
  },
  {
   "cell_type": "markdown",
   "id": "26e092dd",
   "metadata": {},
   "source": [
    "### Q2.2.3 Finding the vocabulary length\n",
    "\n",
    "In order to one-hot encode words, we need to find how many words there are in total, just like in the case of genres. Get all the words, remove duplicates, and sort. Find and print the length of your vocabulary."
   ]
  },
  {
   "cell_type": "code",
   "execution_count": 46,
   "id": "a71a750b",
   "metadata": {},
   "outputs": [
    {
     "name": "stdout",
     "output_type": "stream",
     "text": [
      "12493\n"
     ]
    }
   ],
   "source": [
    "# hint: store all words for all movies in a set, change it to a list and sort\n",
    "\n",
    "unique_words = set()\n",
    "\n",
    "\n",
    "for overview in df['proc_overview']:\n",
    "    words = overview.split()\n",
    "    unique_words.update(words)\n",
    "\n",
    "# Convert the set to a list and sort it to create a sorted vocabulary\n",
    "sorted_vocab = sorted(list(unique_words))\n",
    "vocab_len = len(sorted_vocab)\n",
    "print(vocab_len) "
   ]
  },
  {
   "cell_type": "markdown",
   "id": "f276b825",
   "metadata": {},
   "source": [
    "### Q2.2.4 Encoding the labels\n",
    "\n",
    "In the case of genres, we one-hot encoded the outputs by taking a single random genre. However, an alternative method is to add up the one-hot encodings to form some kind of histogram. For example, if we have an overview \"a brown dog\", and our vocab is \\[a brown, big, cabbage, dog, goat, cow, turkey\\], the one-hot vector would be \\[1,1,0,0,1,0,0,0\\]. If our overview is \"a big brown dog\", the one-hot vector would be \\[1,1,1,0,1,0,0,0\\]. If our overview is \"a big big brown dog\", the one-hot vector would be \\[1,1,2,0,1,0,0,0\\]. You can use the `encode_labels` function that you defined earlier."
   ]
  },
  {
   "cell_type": "code",
   "execution_count": 48,
   "id": "7d437722",
   "metadata": {},
   "outputs": [
    {
     "name": "stderr",
     "output_type": "stream",
     "text": [
      "100%|██████████████████████████████████████| 4707/4707 [00:14<00:00, 318.44it/s]"
     ]
    },
    {
     "name": "stdout",
     "output_type": "stream",
     "text": [
      "0    [0.0, 0.0, 0.0, 0.0, 0.0, 0.0, 0.0, 0.0, 0.0, ...\n",
      "1    [0.0, 0.0, 0.0, 0.0, 0.0, 0.0, 0.0, 0.0, 0.0, ...\n",
      "2    [0.0, 0.0, 0.0, 0.0, 0.0, 0.0, 0.0, 0.0, 0.0, ...\n",
      "3    [0.0, 0.0, 0.0, 0.0, 0.0, 0.0, 0.0, 0.0, 0.0, ...\n",
      "4    [0.0, 0.0, 0.0, 0.0, 0.0, 0.0, 0.0, 0.0, 0.0, ...\n",
      "Name: one_hot_overview, dtype: object\n"
     ]
    },
    {
     "name": "stderr",
     "output_type": "stream",
     "text": [
      "\n"
     ]
    }
   ],
   "source": [
    "def encode_word(word, vocab):\n",
    "    \"\"\" Encodes a single word into a one-hot vector based on the vocabulary. \"\"\"\n",
    "    encoding = np.zeros(len(vocab))\n",
    "    # Find the index of the word in the vocabulary\n",
    "    if word in vocab:\n",
    "        index = vocab.index(word)\n",
    "        encoding[index] = 1\n",
    "    return encoding\n",
    "\n",
    "encoded_labels = []\n",
    "\n",
    "for index, row in tqdm(df.iterrows(), total=len(df)):\n",
    "    overview_encoding = np.zeros(len(sorted_vocab))\n",
    "    words = row[\"proc_overview\"].split()\n",
    "    for word in words:\n",
    "        word_encoding = encode_word(word, sorted_vocab)\n",
    "        overview_encoding += word_encoding\n",
    "    encoded_labels.append(overview_encoding)\n",
    "\n",
    "df[\"one_hot_overview\"] = encoded_labels\n",
    "print(df['one_hot_overview'].head())"
   ]
  },
  {
   "cell_type": "code",
   "execution_count": null,
   "id": "d212192f",
   "metadata": {},
   "outputs": [],
   "source": [
    "# this code is just a hint, if you want you can do it as you please\n",
    "# as long as the output remains the same\n",
    "encoded_labels = []\n",
    "for index, row in tqdm(df.iterrows(), total=len(df)):\n",
    "    sentence_encode = [] # set of encodings for this overview\n",
    "    for word in row[\"proc_overview\"]:\n",
    "        sentence_encode.append(...) # get encoding for this word\n",
    "    sentence_encode = ... # sum over axis=1\n",
    "    encoded_labels.append(...)\n",
    "\n",
    "df[\"one_hot_overview\"] = ...\n",
    "df['one_hot_overview'] # print to verify"
   ]
  },
  {
   "cell_type": "markdown",
   "id": "7c62e127",
   "metadata": {},
   "source": [
    "**Q2.2.5** Each vector is a vector of floating point (64-bit) numbers. Assuming each float takes up exactly 16-bytes, how many bytes does this take to store (theoretically)?"
   ]
  },
  {
   "cell_type": "code",
   "execution_count": 49,
   "id": "51b818f6",
   "metadata": {},
   "outputs": [
    {
     "data": {
      "text/plain": [
       "940872816"
      ]
     },
     "execution_count": 49,
     "metadata": {},
     "output_type": "execute_result"
    }
   ],
   "source": [
    "len(df) * len(sorted_vocab) * 16"
   ]
  },
  {
   "cell_type": "markdown",
   "id": "193b8235",
   "metadata": {},
   "source": [
    "940872816 bytes\n"
   ]
  },
  {
   "cell_type": "markdown",
   "id": "1f3b3700",
   "metadata": {},
   "source": [
    "# Q3 Principal Component Analysis\n",
    "\n",
    "**Q3.1** Using the overview encoded into one-hot encodings, perform PCA and plot this into a 2-D image as a scatter plot."
   ]
  },
  {
   "cell_type": "code",
   "execution_count": 77,
   "id": "832f2be7",
   "metadata": {},
   "outputs": [
    {
     "data": {
      "image/png": "[encoded data removed]",
      "text/plain": [
       "<Figure size 800x600 with 2 Axes>"
      ]
     },
     "metadata": {},
     "output_type": "display_data"
    }
   ],
   "source": [
    "# import PCA decomposition class from sklearn\n",
    "from sklearn.decomposition import PCA\n",
    "\n",
    "pca = PCA(n_components=2)\n",
    "overview_list = df[\"one_hot_overview\"].tolist()\n",
    "overview_pca = pca.fit_transform(overview_list)\n",
    "\n",
    "# Convert genres to numerical labels\n",
    "genre_labels = pd.factorize(df['proc_genres'])[0]\n",
    "\n",
    "plt.figure(figsize=(8, 6))\n",
    "scatter = plt.scatter(overview_pca[:, 0], overview_pca[:, 1], c=genre_labels, cmap='tab10', alpha=0.6, s=10)\n",
    "\n",
    "plt.colorbar(scatter)\n",
    "\n",
    "plt.title('PCA of Movie Overviews by Genre')\n",
    "plt.xlabel('Principal Component 1')\n",
    "plt.ylabel('Principal Component 2')\n",
    "\n",
    "plt.show()"
   ]
  },
  {
   "cell_type": "markdown",
   "id": "a63054b6",
   "metadata": {},
   "source": [
    "**Q3.2** Do you see any interpretable structure in the above plot (\"interpretable\" $\\rightarrow$ the patterns are explainable)."
   ]
  },
  {
   "cell_type": "markdown",
   "id": "a9409e7b",
   "metadata": {},
   "source": [
    "no the color schemes are still random. there is no clear clustering of genres."
   ]
  },
  {
   "cell_type": "markdown",
   "id": "4482c5e5",
   "metadata": {},
   "source": [
    "**Q3.3** Quantify how much variance information a 2D PCA projection loses for this dataset."
   ]
  },
  {
   "cell_type": "markdown",
   "id": "2338a25d",
   "metadata": {},
   "source": [
    "we lose 1- power(1) - power(2) = 0.8871154913246593 (see 3.4 code)"
   ]
  },
  {
   "cell_type": "markdown",
   "id": "7da99ba5",
   "metadata": {},
   "source": [
    "**Q3.4** Plot a line graph where the y-axis is cumulative explained variance ratio and the x-axis is the number of PCA components."
   ]
  },
  {
   "cell_type": "code",
   "execution_count": 119,
   "id": "fe6500cf",
   "metadata": {},
   "outputs": [
    {
     "name": "stdout",
     "output_type": "stream",
     "text": [
      "[1.01854465 0.62590463 0.33997931 0.31617204 0.28776525 0.27668847\n",
      " 0.22208819 0.20243136 0.14788051 0.13600649 0.12058035 0.10896512\n",
      " 0.10588738 0.09981802 0.09386304 0.08682492 0.08427183 0.07985628\n",
      " 0.07494276 0.07054143 0.06841094 0.06707131 0.06397224 0.06262159\n",
      " 0.06057622 0.05548664 0.05487708 0.05060571 0.04986611 0.046358\n",
      " 0.0457026  0.04100223 0.03787531 0.03760757 0.03648219 0.03578264\n",
      " 0.03286913 0.03242965 0.03202784 0.03151303 0.03078459 0.02918319\n",
      " 0.02864857 0.02857489 0.02753132 0.02695218 0.02680016 0.02630914\n",
      " 0.02569836 0.02503024]\n",
      "[0.0699188  0.04296571 0.02333815 0.02170388 0.01975387 0.0189935\n",
      " 0.01524542 0.01389606 0.01015137 0.00933627 0.00827733 0.00748\n",
      " 0.00726872 0.00685209 0.0064433  0.00596016 0.00578491 0.0054818\n",
      " 0.0051445  0.00484237 0.00469612 0.00460416 0.00439142 0.00429871\n",
      " 0.0041583  0.00380892 0.00376708 0.00347387 0.0034231  0.00318228\n",
      " 0.00313729 0.00281463 0.00259998 0.0025816  0.00250435 0.00245633\n",
      " 0.00225633 0.00222616 0.00219858 0.00216324 0.00211323 0.0020033\n",
      " 0.0019666  0.00196155 0.00188991 0.00185015 0.00183972 0.00180601\n",
      " 0.00176408 0.00171822]\n"
     ]
    },
    {
     "data": {
      "image/png": "[encoded data removed]",
      "text/plain": [
       "<Figure size 640x480 with 1 Axes>"
      ]
     },
     "metadata": {},
     "output_type": "display_data"
    },
    {
     "name": "stdout",
     "output_type": "stream",
     "text": [
      "0.8871154913246596\n"
     ]
    }
   ],
   "source": [
    "pca = PCA(n_components=50)  # Set the desired number of components\n",
    "# perform covariance matrix computation\n",
    "# and eigendecomposition\n",
    "overview_asa_list = pca.fit(overview_list)\n",
    "\n",
    "print(pca.explained_variance_)\n",
    "\n",
    "powers = pca.explained_variance_ratio_\n",
    "print(powers[:50])\n",
    "plt.plot(powers, label=\"Explained variance\")\n",
    "plt.plot([np.sum(powers[:i]) for i in range(len(powers)-1)], label=\"Cumulative explained variance\")\n",
    "plt.legend()\n",
    "plt.xlabel(\"number of PCA components\")\n",
    "plt.ylabel(\"cumulative explained variance ratio\")\n",
    "plt.show()\n",
    "\n",
    "# for 3.3\n",
    "two_d_loss = 1 - powers[0] - powers[1]\n",
    "print(two_d_loss)"
   ]
  },
  {
   "cell_type": "code",
   "execution_count": null,
   "id": "e0cac8ff",
   "metadata": {
    "scrolled": false
   },
   "outputs": [],
   "source": []
  },
  {
   "cell_type": "markdown",
   "id": "8b36c9b2",
   "metadata": {},
   "source": [
    "**Q3.5** How many principal components do you need in order to explain 80% of the total variance in the data?\n",
    "\n",
    "Note: don't just estimate it by eye, write some code to compute it for you."
   ]
  },
  {
   "cell_type": "code",
   "execution_count": 121,
   "id": "49039a74",
   "metadata": {},
   "outputs": [
    {
     "name": "stdout",
     "output_type": "stream",
     "text": [
      "[1.01854465e+00 6.25904633e-01 3.39979306e-01 ... 8.27828957e-04\n",
      " 8.25740952e-04 8.24086680e-04]\n",
      "[0.0699188  0.04296571 0.02333815 0.02170388 0.01975387 0.0189935\n",
      " 0.01524542 0.01389606 0.01015137 0.00933627 0.00827733 0.00748\n",
      " 0.00726872 0.00685209 0.0064433  0.00596016 0.00578491 0.0054818\n",
      " 0.0051445  0.00484237 0.00469612 0.00460416 0.00439142 0.00429871\n",
      " 0.0041583  0.00380892 0.00376709 0.00347387 0.0034231  0.00318229\n",
      " 0.00313731 0.00281467 0.0026001  0.00258184 0.00250475 0.00245662\n",
      " 0.00225737 0.00222695 0.00220013 0.00216662 0.00211463 0.00200716\n",
      " 0.00197778 0.00196672 0.00189575 0.00186191 0.00185055 0.00181888\n",
      " 0.00177807 0.0017357 ]\n"
     ]
    }
   ],
   "source": [
    "pca_x = PCA(n_components=2500)  # Set the desired number of components\n",
    "# perform covariance matrix computation\n",
    "# and eigendecomposition\n",
    "overview_asa_list = pca_x.fit(overview_list)\n",
    "\n",
    "print(pca_x.explained_variance_)\n",
    "\n",
    "powers = pca_x.explained_variance_ratio_\n",
    "print(powers[:50])"
   ]
  },
  {
   "cell_type": "code",
   "execution_count": 124,
   "id": "95c44b2d",
   "metadata": {},
   "outputs": [
    {
     "data": {
      "text/plain": [
       "1227"
      ]
     },
     "execution_count": 124,
     "metadata": {},
     "output_type": "execute_result"
    }
   ],
   "source": [
    "cumulative_variance = np.cumsum(powers)\n",
    "\n",
    "\n",
    "num_components = np.where(cumulative_variance >= 0.80)[0][0] + 1\n",
    "num_components"
   ]
  },
  {
   "cell_type": "code",
   "execution_count": 123,
   "id": "c90b8c5c",
   "metadata": {},
   "outputs": [
    {
     "data": {
      "image/png": "[encoded data removed]",
      "text/plain": [
       "<Figure size 640x480 with 1 Axes>"
      ]
     },
     "metadata": {},
     "output_type": "display_data"
    }
   ],
   "source": [
    "#graph it\n",
    "plt.plot(powers, label=\"Explained variance\")\n",
    "plt.plot([np.sum(powers[:i]) for i in range(len(powers)-1)], label=\"Cumulative explained variance\")\n",
    "plt.legend()\n",
    "plt.xlabel(\"number of PCA components\")\n",
    "plt.ylabel(\"cumulative explained variance ratio\")\n",
    "plt.show()"
   ]
  },
  {
   "cell_type": "markdown",
   "id": "b608db91",
   "metadata": {},
   "source": [
    "*Your text answer here*"
   ]
  },
  {
   "cell_type": "markdown",
   "id": "ee3b5c33",
   "metadata": {},
   "source": [
    "**Q3.6** Using the number of dimensions you found in Q3.5, fit and transform your overview encodings using PCA and add it to a new column called `overview_pca` in the dataframe."
   ]
  },
  {
   "cell_type": "code",
   "execution_count": 125,
   "id": "8a6eb40b",
   "metadata": {},
   "outputs": [
    {
     "name": "stdout",
     "output_type": "stream",
     "text": [
      "                                      title  \\\n",
      "0                                    Avatar   \n",
      "1  Pirates of the Caribbean: At World's End   \n",
      "2                                   Spectre   \n",
      "3                     The Dark Knight Rises   \n",
      "4                               John Carter   \n",
      "\n",
      "                                        overview_pca  \n",
      "0  [0.17130556275132378, 1.2545637565425891, 1.06...  \n",
      "1  [-0.3780729300588893, -1.5934718497724465, 0.9...  \n",
      "2  [-1.9128810490622827, 1.1768562611977436, 0.80...  \n",
      "3  [0.8229543741730715, -0.4484862837329668, 0.59...  \n",
      "4  [-0.10117960365991915, -0.22882078000644418, 0...  \n"
     ]
    }
   ],
   "source": [
    "n_dims = num_components #1227\n",
    "pca = PCA(n_components=n_dims)\n",
    "labels_pca = pca.fit_transform(overview_list)\n",
    "df[\"overview_pca\"] = list(labels_pca)\n",
    "print(df[[\"title\", \"overview_pca\"]].head())"
   ]
  },
  {
   "cell_type": "markdown",
   "id": "309d3256",
   "metadata": {},
   "source": [
    "# Q4 K-Means Clustering\n",
    "\n",
    "**Q4.1** Cluster the movies based on the features that were extracted via PCA in the last step. Set $K=20$. Add the predicted cluster into the dataframe as a new column called `cluster_kmeans`. Print out the elements of cluster number 0 from the dataframe."
   ]
  },
  {
   "cell_type": "code",
   "execution_count": 130,
   "id": "41b3b37a",
   "metadata": {},
   "outputs": [
    {
     "name": "stderr",
     "output_type": "stream",
     "text": [
      "/Users/tomsagasser/anaconda3/lib/python3.11/site-packages/sklearn/cluster/_kmeans.py:1412: FutureWarning: The default value of `n_init` will change from 10 to 'auto' in 1.4. Set the value of `n_init` explicitly to suppress the warning\n",
      "  super()._check_params_vs_input(X, default_n_init=10)\n"
     ]
    },
    {
     "name": "stdout",
     "output_type": "stream",
     "text": [
      "                                    title  \\\n",
      "27                             Battleship   \n",
      "50    Prince of Persia: The Sands of Time   \n",
      "87                           Tomorrowland   \n",
      "118                           Ratatouille   \n",
      "165                                  Hulk   \n",
      "...                                   ...   \n",
      "4703                        The Horse Boy   \n",
      "4712                    Sound of My Voice   \n",
      "4724                         Penitentiary   \n",
      "4759                    George Washington   \n",
      "4767                  Mutual Appreciation   \n",
      "\n",
      "                                               overview  \\\n",
      "27    When mankind beams a radio signal into space, ...   \n",
      "50    A rogue prince reluctantly joins forces with a...   \n",
      "87    Bound by a shared destiny, a bright, optimisti...   \n",
      "118   A rat named Remy dreams of becoming a great Fr...   \n",
      "165   Bruce Banner, a genetics researcher with a tra...   \n",
      "...                                                 ...   \n",
      "4703  Filmmaker Michel Orion Scott captures a magica...   \n",
      "4712  A journalist and his girlfriend get pulled in ...   \n",
      "4724  A hitchhiker named Martel Gordone gets in a fi...   \n",
      "4759  A delicately told and deceptively simple story...   \n",
      "4767  Alan is a musician who leaves a busted-up band...   \n",
      "\n",
      "                                                 genres      proc_genres  \\\n",
      "27    [{\"id\": 53, \"name\": \"Thriller\"}, {\"id\": 28, \"n...  Science Fiction   \n",
      "50    [{\"id\": 12, \"name\": \"Adventure\"}, {\"id\": 14, \"...        Adventure   \n",
      "87    [{\"id\": 12, \"name\": \"Adventure\"}, {\"id\": 10751...  Science Fiction   \n",
      "118   [{\"id\": 16, \"name\": \"Animation\"}, {\"id\": 35, \"...           Family   \n",
      "165   [{\"id\": 18, \"name\": \"Drama\"}, {\"id\": 28, \"name...           Action   \n",
      "...                                                 ...              ...   \n",
      "4703                [{\"id\": 99, \"name\": \"Documentary\"}]      Documentary   \n",
      "4712  [{\"id\": 878, \"name\": \"Science Fiction\"}, {\"id\"...          Mystery   \n",
      "4724  [{\"id\": 28, \"name\": \"Action\"}, {\"id\": 18, \"nam...            Drama   \n",
      "4759                      [{\"id\": 18, \"name\": \"Drama\"}]            Drama   \n",
      "4767  [{\"id\": 18, \"name\": \"Drama\"}, {\"id\": 35, \"name...           Comedy   \n",
      "\n",
      "                                         one_hot_genres  \\\n",
      "27    [0.0, 0.0, 0.0, 0.0, 0.0, 0.0, 0.0, 0.0, 0.0, ...   \n",
      "50    [0.0, 1.0, 0.0, 0.0, 0.0, 0.0, 0.0, 0.0, 0.0, ...   \n",
      "87    [0.0, 0.0, 0.0, 0.0, 0.0, 0.0, 0.0, 0.0, 0.0, ...   \n",
      "118   [0.0, 0.0, 0.0, 0.0, 0.0, 0.0, 0.0, 1.0, 0.0, ...   \n",
      "165   [1.0, 0.0, 0.0, 0.0, 0.0, 0.0, 0.0, 0.0, 0.0, ...   \n",
      "...                                                 ...   \n",
      "4703  [0.0, 0.0, 0.0, 0.0, 0.0, 1.0, 0.0, 0.0, 0.0, ...   \n",
      "4712  [0.0, 0.0, 0.0, 0.0, 0.0, 0.0, 0.0, 0.0, 0.0, ...   \n",
      "4724  [0.0, 0.0, 0.0, 0.0, 0.0, 0.0, 1.0, 0.0, 0.0, ...   \n",
      "4759  [0.0, 0.0, 0.0, 0.0, 0.0, 0.0, 1.0, 0.0, 0.0, ...   \n",
      "4767  [0.0, 0.0, 0.0, 1.0, 0.0, 0.0, 0.0, 0.0, 0.0, ...   \n",
      "\n",
      "                                          proc_overview  overview_len  \\\n",
      "27    when mankind beams a radio signal into space a...            15   \n",
      "50    a rogue prince reluctantly joins forces with a...            15   \n",
      "87    bound by a shared destiny a bright optimistic ...            15   \n",
      "118   a rat named remy dreams of becoming a great fr...            15   \n",
      "165   bruce banner a genetics researcher with a trag...            15   \n",
      "...                                                 ...           ...   \n",
      "4703  filmmaker michel orion scott captures a magica...            15   \n",
      "4712  a journalist and his girlfriend get pulled in ...            15   \n",
      "4724  a hitchhiker named martel gordone gets in a fi...            15   \n",
      "4759  a delicately told and deceptively simple story...            15   \n",
      "4767  alan is a musician who leaves a bustedup band ...            15   \n",
      "\n",
      "                                       one_hot_overview  \\\n",
      "27    [0.0, 0.0, 0.0, 0.0, 0.0, 0.0, 0.0, 0.0, 0.0, ...   \n",
      "50    [0.0, 0.0, 0.0, 0.0, 0.0, 0.0, 0.0, 0.0, 0.0, ...   \n",
      "87    [0.0, 0.0, 0.0, 0.0, 0.0, 0.0, 0.0, 0.0, 0.0, ...   \n",
      "118   [0.0, 0.0, 0.0, 0.0, 0.0, 0.0, 0.0, 0.0, 0.0, ...   \n",
      "165   [0.0, 0.0, 0.0, 0.0, 0.0, 0.0, 0.0, 0.0, 0.0, ...   \n",
      "...                                                 ...   \n",
      "4703  [0.0, 0.0, 0.0, 0.0, 0.0, 0.0, 0.0, 0.0, 0.0, ...   \n",
      "4712  [0.0, 0.0, 0.0, 0.0, 0.0, 0.0, 0.0, 0.0, 0.0, ...   \n",
      "4724  [0.0, 0.0, 0.0, 0.0, 0.0, 0.0, 0.0, 0.0, 0.0, ...   \n",
      "4759  [0.0, 0.0, 0.0, 0.0, 0.0, 0.0, 0.0, 0.0, 0.0, ...   \n",
      "4767  [0.0, 0.0, 0.0, 0.0, 0.0, 0.0, 0.0, 0.0, 0.0, ...   \n",
      "\n",
      "                                           overview_pca  cluster_kmeans  \n",
      "27    [-1.2565832525013334, 0.5842539237131826, -0.1...               0  \n",
      "50    [-1.3325670157805958, 0.3138833895209469, -0.6...               0  \n",
      "87    [-1.891880104978399, 1.0929477207098082, -0.54...               0  \n",
      "118   [-1.014807643753872, 0.7609613742532992, -0.26...               0  \n",
      "165   [-1.3311983712976778, 0.4549443042792108, -0.1...               0  \n",
      "...                                                 ...             ...  \n",
      "4703  [-1.7915980686284663, 1.4119549499171244, -0.1...               0  \n",
      "4712  [-1.3292808996629828, 0.21298420918576957, -0....               0  \n",
      "4724  [-1.8476413188008018, 1.3619035428231538, -0.1...               0  \n",
      "4759  [-1.150855648896455, 1.9480724942639716, -1.25...               0  \n",
      "4767  [-1.9269452605751691, 1.1219173853426552, -0.4...               0  \n",
      "\n",
      "[347 rows x 10 columns]\n"
     ]
    }
   ],
   "source": [
    "from sklearn.cluster import KMeans\n",
    "\n",
    "K = 20\n",
    "\n",
    "kmeans = KMeans(n_clusters=K, random_state=0)\n",
    "\n",
    "pca_aslist = list(df['overview_pca'])\n",
    "kmeans.fit(pca_aslist)\n",
    "\n",
    "y_preds = kmeans.predict(pca_aslist)\n",
    "\n",
    "df[\"cluster_kmeans\"] = y_preds\n",
    "\n",
    "cluster_0_elements = df[df[\"cluster_kmeans\"] == 0]\n",
    "print(cluster_0_elements)\n"
   ]
  },
  {
   "cell_type": "markdown",
   "id": "34334c6c",
   "metadata": {},
   "source": [
    "**Q4.2** Does this clustering seem alright to you (based on your movie watching history)? Are there movies that go well together and movies that don't?"
   ]
  },
  {
   "cell_type": "markdown",
   "id": "9f1d40cc",
   "metadata": {},
   "source": [
    "it is not good clustering as a lot of random movies of different genres are clustered together. a few movies (adventure movies for example) are grouped together but also with documentaries and dramas"
   ]
  },
  {
   "cell_type": "markdown",
   "id": "0407f9e4",
   "metadata": {},
   "source": [
    "**Q4.3** Now, we'll figure out whether using the elbow method is right for this dataset. Plot a loss (using `kmeans.inertia_`) versus cluster size plot. Is there an elbow that you see clearly? What cluster size would you choose?"
   ]
  },
  {
   "cell_type": "markdown",
   "id": "4984dcd9",
   "metadata": {},
   "source": [
    "there is no clear elbow. for a range of 30, we can see this clearly"
   ]
  },
  {
   "cell_type": "code",
   "execution_count": 132,
   "id": "cb3a37ee",
   "metadata": {},
   "outputs": [
    {
     "name": "stderr",
     "output_type": "stream",
     "text": [
      "/Users/tomsagasser/anaconda3/lib/python3.11/site-packages/sklearn/cluster/_kmeans.py:1412: FutureWarning: The default value of `n_init` will change from 10 to 'auto' in 1.4. Set the value of `n_init` explicitly to suppress the warning\n",
      "  super()._check_params_vs_input(X, default_n_init=10)\n",
      "/Users/tomsagasser/anaconda3/lib/python3.11/site-packages/sklearn/cluster/_kmeans.py:1412: FutureWarning: The default value of `n_init` will change from 10 to 'auto' in 1.4. Set the value of `n_init` explicitly to suppress the warning\n",
      "  super()._check_params_vs_input(X, default_n_init=10)\n",
      "/Users/tomsagasser/anaconda3/lib/python3.11/site-packages/sklearn/cluster/_kmeans.py:1412: FutureWarning: The default value of `n_init` will change from 10 to 'auto' in 1.4. Set the value of `n_init` explicitly to suppress the warning\n",
      "  super()._check_params_vs_input(X, default_n_init=10)\n",
      "/Users/tomsagasser/anaconda3/lib/python3.11/site-packages/sklearn/cluster/_kmeans.py:1412: FutureWarning: The default value of `n_init` will change from 10 to 'auto' in 1.4. Set the value of `n_init` explicitly to suppress the warning\n",
      "  super()._check_params_vs_input(X, default_n_init=10)\n",
      "/Users/tomsagasser/anaconda3/lib/python3.11/site-packages/sklearn/cluster/_kmeans.py:1412: FutureWarning: The default value of `n_init` will change from 10 to 'auto' in 1.4. Set the value of `n_init` explicitly to suppress the warning\n",
      "  super()._check_params_vs_input(X, default_n_init=10)\n",
      "/Users/tomsagasser/anaconda3/lib/python3.11/site-packages/sklearn/cluster/_kmeans.py:1412: FutureWarning: The default value of `n_init` will change from 10 to 'auto' in 1.4. Set the value of `n_init` explicitly to suppress the warning\n",
      "  super()._check_params_vs_input(X, default_n_init=10)\n",
      "/Users/tomsagasser/anaconda3/lib/python3.11/site-packages/sklearn/cluster/_kmeans.py:1412: FutureWarning: The default value of `n_init` will change from 10 to 'auto' in 1.4. Set the value of `n_init` explicitly to suppress the warning\n",
      "  super()._check_params_vs_input(X, default_n_init=10)\n",
      "/Users/tomsagasser/anaconda3/lib/python3.11/site-packages/sklearn/cluster/_kmeans.py:1412: FutureWarning: The default value of `n_init` will change from 10 to 'auto' in 1.4. Set the value of `n_init` explicitly to suppress the warning\n",
      "  super()._check_params_vs_input(X, default_n_init=10)\n",
      "/Users/tomsagasser/anaconda3/lib/python3.11/site-packages/sklearn/cluster/_kmeans.py:1412: FutureWarning: The default value of `n_init` will change from 10 to 'auto' in 1.4. Set the value of `n_init` explicitly to suppress the warning\n",
      "  super()._check_params_vs_input(X, default_n_init=10)\n"
     ]
    },
    {
     "data": {
      "image/png": "[encoded data removed]",
      "text/plain": [
       "<Figure size 1000x600 with 1 Axes>"
      ]
     },
     "metadata": {},
     "output_type": "display_data"
    }
   ],
   "source": [
    "K_values = range(1, 31)\n",
    "\n",
    "inertias = []\n",
    "\n",
    "for K in K_values:\n",
    "    kmeans = KMeans(n_clusters=K, random_state=0).fit(pca_aslist)\n",
    "    inertias.append(kmeans.inertia_)\n",
    "\n",
    "# Plotting\n",
    "plt.figure(figsize=(10, 6))\n",
    "plt.plot(K_values, inertias, '-o')\n",
    "plt.title('Loss vs. Cluster Size (Elbow Method)')\n",
    "plt.xlabel('Number of clusters (K)')\n",
    "plt.ylabel('Inertia (Loss)')\n",
    "plt.xticks(K_values)\n",
    "plt.show()\n"
   ]
  },
  {
   "attachments": {
    "IMGweek3.png": {
     "image/png": "[encoded data removed]"
    }
   },
   "cell_type": "markdown",
   "id": "5abbed40",
   "metadata": {},
   "source": [
    "![IMGweek3.png](attachment:IMGweek3.png)"
   ]
  },
  {
   "cell_type": "markdown",
   "id": "3e89e224",
   "metadata": {},
   "source": [
    "# Q5 Gaussian Mixture Models\n",
    "\n",
    "**Q5.1** As with the K-means above, cluster the movies based on the features that were extracted via PCA in a previous step. Set $K=20$. Add the predicted cluster into the dataframe as a new column called `cluster_gmm`. Print out the elements of a single cluster of your choice from the dataframe."
   ]
  },
  {
   "cell_type": "code",
   "execution_count": 134,
   "id": "86735028",
   "metadata": {},
   "outputs": [
    {
     "name": "stdout",
     "output_type": "stream",
     "text": [
      "                                           title  \\\n",
      "3                          The Dark Knight Rises   \n",
      "9             Batman v Superman: Dawn of Justice   \n",
      "11                             Quantum of Solace   \n",
      "12    Pirates of the Caribbean: Dead Man's Chest   \n",
      "28                                Jurassic World   \n",
      "...                                          ...   \n",
      "4757                       This Is Martin Bonner   \n",
      "4768           Her Cry: La Llorona Investigation   \n",
      "4782                        Stories of Our Lives   \n",
      "4793                                      Primer   \n",
      "4797                   Signed, Sealed, Delivered   \n",
      "\n",
      "                                               overview  \\\n",
      "3     Following the death of District Attorney Harve...   \n",
      "9     Fearing the actions of a god-like Super Hero l...   \n",
      "11    Quantum of Solace continues the adventures of ...   \n",
      "12    Captain Jack Sparrow works his way out of a bl...   \n",
      "28    Twenty-two years after the events of Jurassic ...   \n",
      "...                                                 ...   \n",
      "4757  Two men, at opposite ends of the social spectr...   \n",
      "4768  Crew of \"Paranormal Legends\" went to film thei...   \n",
      "4782  Created by the members of a Nairobi-based arts...   \n",
      "4793  Friends/fledgling entrepreneurs invent a devic...   \n",
      "4797  \"Signed, Sealed, Delivered\" introduces a dedic...   \n",
      "\n",
      "                                                 genres proc_genres  \\\n",
      "3     [{\"id\": 28, \"name\": \"Action\"}, {\"id\": 80, \"nam...    Thriller   \n",
      "9     [{\"id\": 28, \"name\": \"Action\"}, {\"id\": 12, \"nam...      Action   \n",
      "11    [{\"id\": 12, \"name\": \"Adventure\"}, {\"id\": 28, \"...   Adventure   \n",
      "12    [{\"id\": 12, \"name\": \"Adventure\"}, {\"id\": 14, \"...      Action   \n",
      "28    [{\"id\": 28, \"name\": \"Action\"}, {\"id\": 12, \"nam...    Thriller   \n",
      "...                                                 ...         ...   \n",
      "4757                      [{\"id\": 18, \"name\": \"Drama\"}]       Drama   \n",
      "4768                     [{\"id\": 27, \"name\": \"Horror\"}]      Horror   \n",
      "4782                      [{\"id\": 18, \"name\": \"Drama\"}]       Drama   \n",
      "4793  [{\"id\": 878, \"name\": \"Science Fiction\"}, {\"id\"...    Thriller   \n",
      "4797  [{\"id\": 35, \"name\": \"Comedy\"}, {\"id\": 18, \"nam...    TV Movie   \n",
      "\n",
      "                                         one_hot_genres  \\\n",
      "3     [0.0, 0.0, 0.0, 0.0, 0.0, 0.0, 0.0, 0.0, 0.0, ...   \n",
      "9     [1.0, 0.0, 0.0, 0.0, 0.0, 0.0, 0.0, 0.0, 0.0, ...   \n",
      "11    [0.0, 1.0, 0.0, 0.0, 0.0, 0.0, 0.0, 0.0, 0.0, ...   \n",
      "12    [1.0, 0.0, 0.0, 0.0, 0.0, 0.0, 0.0, 0.0, 0.0, ...   \n",
      "28    [0.0, 0.0, 0.0, 0.0, 0.0, 0.0, 0.0, 0.0, 0.0, ...   \n",
      "...                                                 ...   \n",
      "4757  [0.0, 0.0, 0.0, 0.0, 0.0, 0.0, 1.0, 0.0, 0.0, ...   \n",
      "4768  [0.0, 0.0, 0.0, 0.0, 0.0, 0.0, 0.0, 0.0, 0.0, ...   \n",
      "4782  [0.0, 0.0, 0.0, 0.0, 0.0, 0.0, 1.0, 0.0, 0.0, ...   \n",
      "4793  [0.0, 0.0, 0.0, 0.0, 0.0, 0.0, 0.0, 0.0, 0.0, ...   \n",
      "4797  [0.0, 0.0, 0.0, 0.0, 0.0, 0.0, 0.0, 0.0, 0.0, ...   \n",
      "\n",
      "                                          proc_overview  overview_len  \\\n",
      "3     following the death of district attorney harve...            15   \n",
      "9     fearing the actions of a godlike super hero le...            15   \n",
      "11    quantum of solace continues the adventures of ...            15   \n",
      "12    captain jack sparrow works his way out of a bl...            15   \n",
      "28    twentytwo years after the events of jurassic p...            15   \n",
      "...                                                 ...           ...   \n",
      "4757  two men at opposite ends of the social spectru...            15   \n",
      "4768  crew of paranormal legends went to film their ...            15   \n",
      "4782  created by the members of a nairobibased arts ...            15   \n",
      "4793  friendsfledgling entrepreneurs invent a device...            15   \n",
      "4797  signed sealed delivered introduces a dedicated...            15   \n",
      "\n",
      "                                       one_hot_overview  \\\n",
      "3     [0.0, 0.0, 0.0, 0.0, 0.0, 0.0, 0.0, 0.0, 0.0, ...   \n",
      "9     [0.0, 0.0, 0.0, 0.0, 0.0, 0.0, 0.0, 0.0, 0.0, ...   \n",
      "11    [0.0, 0.0, 0.0, 0.0, 0.0, 0.0, 0.0, 0.0, 0.0, ...   \n",
      "12    [0.0, 0.0, 0.0, 0.0, 0.0, 0.0, 0.0, 0.0, 0.0, ...   \n",
      "28    [0.0, 0.0, 0.0, 0.0, 0.0, 0.0, 0.0, 0.0, 0.0, ...   \n",
      "...                                                 ...   \n",
      "4757  [0.0, 0.0, 0.0, 0.0, 0.0, 0.0, 0.0, 0.0, 0.0, ...   \n",
      "4768  [0.0, 0.0, 0.0, 0.0, 0.0, 0.0, 0.0, 0.0, 0.0, ...   \n",
      "4782  [0.0, 0.0, 0.0, 0.0, 0.0, 0.0, 0.0, 0.0, 0.0, ...   \n",
      "4793  [0.0, 0.0, 0.0, 0.0, 0.0, 0.0, 0.0, 0.0, 0.0, ...   \n",
      "4797  [0.0, 0.0, 0.0, 0.0, 0.0, 0.0, 0.0, 0.0, 0.0, ...   \n",
      "\n",
      "                                           overview_pca  cluster_kmeans  \\\n",
      "3     [0.8229543741730715, -0.4484862837329668, 0.59...              18   \n",
      "9     [0.35860438237186887, 0.5075536443408435, -0.1...               6   \n",
      "11    [1.2270146568905695, 0.07345794129130585, -0.3...              18   \n",
      "12    [0.258931781719391, 0.33866457003537104, -0.07...               6   \n",
      "28    [0.36452007469054887, 0.48779221959989644, -0....               6   \n",
      "...                                                 ...             ...   \n",
      "4757  [0.9328265746037392, -0.22068365032752169, -0....              18   \n",
      "4768  [0.8456395044624667, -0.46397297996403414, 0.5...              18   \n",
      "4782  [0.34611906752017413, 0.46120736857399647, -0....               6   \n",
      "4793  [0.38617336048964696, 0.5217046827169612, -0.2...              16   \n",
      "4797  [0.39072083347921466, 0.5742052146668605, -0.2...              16   \n",
      "\n",
      "      cluster_gmm  \n",
      "3               1  \n",
      "9               1  \n",
      "11              1  \n",
      "12              1  \n",
      "28              1  \n",
      "...           ...  \n",
      "4757            1  \n",
      "4768            1  \n",
      "4782            1  \n",
      "4793            1  \n",
      "4797            1  \n",
      "\n",
      "[395 rows x 11 columns]\n"
     ]
    }
   ],
   "source": [
    "from sklearn.mixture import GaussianMixture\n",
    "\n",
    "K = 20\n",
    "\n",
    "gmm = GaussianMixture(n_components=K, random_state=0)\n",
    "\n",
    "gmm.fit(pca_aslist)\n",
    "\n",
    "cluster_gmm = gmm.predict(pca_aslist)\n",
    "\n",
    "df[\"cluster_gmm\"] = cluster_gmm\n",
    "\n",
    "#Print cluster \n",
    "chosen_cluster = 1\n",
    "cluster_elements = df[df[\"cluster_gmm\"] == chosen_cluster]\n",
    "print(cluster_elements)\n"
   ]
  },
  {
   "cell_type": "markdown",
   "id": "95ed02d9",
   "metadata": {},
   "source": [
    "**Q4.2** Does this clustering seem alright to you (based on your movie watching history)? Are there movies that go well together and movies that don't? How does this compare to K-Means Clustering?"
   ]
  },
  {
   "cell_type": "markdown",
   "id": "c62e20dd",
   "metadata": {},
   "source": [
    "This is already a lot better than before. We now have more focus on action and adventure movies in cluster 1. meaning that they are clustered a bit more. there is still less fitting genres included, but for instance The Dark Knight Rises and Batman v Superman: Dawn of Justice are in the same cluster now."
   ]
  },
  {
   "cell_type": "markdown",
   "id": "3b0064a1",
   "metadata": {},
   "source": [
    "**Q4.3** Let's check out the size of the clusters. Create a double bar plot (**as you did in the last assignment**) showing the different sizes of the clusters.\n",
    "\n",
    "*Hint: you may want to consider `df.value_counts()` if you're unfamiliar.*"
   ]
  },
  {
   "cell_type": "code",
   "execution_count": 140,
   "id": "e775ad4f",
   "metadata": {},
   "outputs": [
    {
     "data": {
      "image/png": "[encoded data removed]",
      "text/plain": [
       "<Figure size 1400x800 with 1 Axes>"
      ]
     },
     "metadata": {},
     "output_type": "display_data"
    },
    {
     "name": "stdout",
     "output_type": "stream",
     "text": [
      "235.35 235.35\n"
     ]
    }
   ],
   "source": [
    "# Create an array for the x-axis positions\n",
    "# Plotting the bars\n",
    "# Add labels, title, and legend\n",
    "\n",
    "kmeans_cluster_sizes = df['cluster_kmeans'].value_counts().sort_index()\n",
    "gmm_cluster_sizes = df['cluster_gmm'].value_counts().sort_index()\n",
    "\n",
    "# Ensure both series have the same shape \n",
    "all_clusters = sorted(set(kmeans_cluster_sizes.index) | set(gmm_cluster_sizes.index))\n",
    "kmeans_cluster_sizes = kmeans_cluster_sizes.reindex(all_clusters, fill_value=0)\n",
    "gmm_cluster_sizes = gmm_cluster_sizes.reindex(all_clusters, fill_value=0)\n",
    "\n",
    "x = np.arange(len(all_clusters))\n",
    "\n",
    "bar_width = 0.35\n",
    "\n",
    "fig, ax = plt.subplots(figsize=(14, 8))\n",
    "kmeans_bars = ax.bar(x - bar_width/2, kmeans_cluster_sizes, bar_width, label='KMeans')\n",
    "gmm_bars = ax.bar(x + bar_width/2, gmm_cluster_sizes, bar_width, label='GMM')\n",
    "\n",
    "ax.set_xlabel('Cluster')\n",
    "ax.set_ylabel('Size')\n",
    "ax.set_title('Cluster Sizes: KMeans vs GMM')\n",
    "ax.set_xticks(x)\n",
    "ax.set_xticklabels(all_clusters)\n",
    "ax.legend()\n",
    "\n",
    "plt.show()\n",
    "print(kmeans_cluster_sizes.mean(),gmm_cluster_sizes.mean())"
   ]
  },
  {
   "cell_type": "markdown",
   "id": "cfc124da",
   "metadata": {},
   "source": [
    "**Q4.4** Do you see a significant difference in the sizes of the clusters? Which is more uniform? Any thought on why?"
   ]
  },
  {
   "cell_type": "markdown",
   "id": "9f538519",
   "metadata": {},
   "source": [
    "the clusters look pretty similarily distributed. GMM is slightly more uniform in my opinion. Maybe because it is more efficient in clustering properly."
   ]
  },
  {
   "cell_type": "markdown",
   "id": "aa60615d",
   "metadata": {},
   "source": [
    "# Q6: A very simple recommender system\n",
    "\n",
    "One useful thing that clustering is often used for (though at a much greater complexity) is in **recommender systems**. These are systems with users and items (movies, files, documents, etc.), where new items are shown to the user based on what they've previously interacted with, and possibly also on the behaviour of other users.\n",
    "\n",
    "**Q6.1** Assume your dentist has just watched the movie Avatar and asks you for a recommendation. Lucky for you, you just finished this assignment. Using the cluster indices of the movie Avatar for both the K-means and GMM methods, print out suggestions for new movies."
   ]
  },
  {
   "cell_type": "code",
   "execution_count": 164,
   "id": "86a74f68",
   "metadata": {},
   "outputs": [
    {
     "name": "stdout",
     "output_type": "stream",
     "text": [
      "Movies similar to Avatar based on KMeans clustering:\n",
      "Waterworld\n",
      "The Jungle Book\n",
      "Shin Godzilla\n",
      "Poseidon\n",
      "Charlie and the Chocolate Factory\n",
      "Angels & Demons\n",
      "The Revenant\n",
      "R.I.P.D.\n",
      "Pirates of the Caribbean: The Curse of the Black Pearl\n",
      "San Andreas\n",
      "Django Unchained\n",
      "Cloud Atlas\n",
      "The Fifth Element\n",
      "Mulan\n",
      "Bicentennial Man\n",
      "Volcano\n",
      "Conan the Barbarian\n",
      "Safe House\n",
      "Tower Heist\n",
      "Dredd\n",
      "\n",
      "Movies similar to Avatar based on GMM clustering:\n",
      "Iron Man 3\n",
      "Transformers: Revenge of the Fallen\n",
      "Jack the Giant Slayer\n",
      "Brave\n",
      "Jupiter Ascending\n",
      "Poseidon\n",
      "I Am Legend\n",
      "Flushed Away\n",
      "Sahara\n",
      "Happy Feet Two\n",
      "The BFG\n",
      "RoboCop\n",
      "Speed Racer\n",
      "Star Wars: Episode I - The Phantom Menace\n",
      "The Croods\n",
      "Tomorrow Never Dies\n",
      "Real Steel\n",
      "Minority Report\n",
      "True Lies\n",
      "Rise of the Planet of the Apes\n"
     ]
    }
   ],
   "source": [
    "prev_watch = \"Avatar\"\n",
    "max_recom = 20\n",
    "\n",
    "# Find the cluster index for Avatar in both KMeans and GMM clustering\n",
    "cluster_kmeans = df[df['title'] == prev_watch]['cluster_kmeans'].iloc[0]\n",
    "cluster_gmm= df[df['title'] == prev_watch]['cluster_gmm'].iloc[0]\n",
    "\n",
    "kmeans_recommendations = df[df['cluster_kmeans'] == cluster_kmeans]['title'].tolist()\n",
    "\n",
    "gmm_recommendations = df[df['cluster_gmm'] == cluster_gmm]['title'].tolist()\n",
    "\n",
    "print(f\"Movies similar to {prev_watch} based on KMeans clustering:\")\n",
    "for movie in kmeans_recommendations[:max_recom+1]:\n",
    "     if movie != prev_watch:  # Exclude Avatar \n",
    "        print(movie)\n",
    "\n",
    "print(f\"\\nMovies similar to {prev_watch} based on GMM clustering:\")\n",
    "for movie in gmm_recommendations[:max_recom+1]:\n",
    "    if movie != prev_watch: \n",
    "        print(movie)"
   ]
  },
  {
   "cell_type": "markdown",
   "id": "4ecec1ff",
   "metadata": {},
   "source": [
    "**Q6.2** Are any of the two recommender systems any good? Would you use them if your real dentist asks for a movie suggestion?"
   ]
  },
  {
   "cell_type": "markdown",
   "id": "aae96b8a",
   "metadata": {},
   "source": [
    "in my opinion both are partially good. they have outliers (movies that do not fit) and good recommendations as well. overall i would use it but with care"
   ]
  },
  {
   "cell_type": "markdown",
   "id": "92b84753",
   "metadata": {},
   "source": [
    "**Q6.3** How would you try making the recommender systems better?"
   ]
  },
  {
   "cell_type": "markdown",
   "id": "40d3f6dd",
   "metadata": {},
   "source": [
    "by increasing the length of the overview we are looking at. instead of just looking at the first 15 words i would focus on key words in the overviews and exclude irrelevant words (a, the, etc.)"
   ]
  },
  {
   "cell_type": "markdown",
   "id": "7df2d34a",
   "metadata": {},
   "source": [
    "**Q6.4** Say your dentist likes the movies you suggested and has watched a few more since you met him last. How would you incorporate this fact (recommendation based on multiple movies) into your suggestions?"
   ]
  },
  {
   "cell_type": "markdown",
   "id": "b3549de4",
   "metadata": {},
   "source": [
    "base the clustering on multiple previous watched movies and redoing the clustering to get different versions of movie recommendations"
   ]
  },
  {
   "cell_type": "markdown",
   "id": "f20b74ce",
   "metadata": {},
   "source": [
    "**Q6.5** An alternative method for recommendations is to use your encoded movie-feature vectors (in this case your overview+PCA vector) in order to find out what movie may be most similar to the current one. In the case of K-Means and GMMs, \"similarity\" referred to Euclidean distance. However, in this exercise, we will use *cosine similarity*, which is another very common similarity measure, and is related to the angle between two vectors. It is defined as:\n",
    "\n",
    "$$sim(v_1, v_2)=\\frac{v_1\\cdot v_2}{||v_1||\\cdot||v_2||}$$\n",
    "\n",
    "Where $v_1$ and $v_2$ are vectors and the operator $||\\cdot||$ is the norm of the vector. The function ranges from $[-1,1]$ (where 1 means that the vectors point in the same direction).\n",
    "\n",
    "Define an appropriate function `cosine_sim`. Add a column called `cos_sim_to_avatar` in the df and print out the head of the df, sorted by the similarity. What movies would you recommend now? Is this better than the clustering methods?"
   ]
  },
  {
   "cell_type": "code",
   "execution_count": 155,
   "id": "1d2a5cc8",
   "metadata": {},
   "outputs": [
    {
     "name": "stdout",
     "output_type": "stream",
     "text": [
      "                   title  cos_sim_to_avatar\n",
      "0                 Avatar           1.000000\n",
      "3363             Warlock           0.525178\n",
      "3778              Zipper           0.477925\n",
      "1285  Nomad: The Warrior           0.471296\n",
      "415                Dredd           0.459691\n",
      "2935        Barry Lyndon           0.445668\n",
      "\n",
      "Recommended Movies based on Cosine Similarity to 'Avatar':\n",
      "Warlock\n",
      "Zipper\n",
      "Nomad: The Warrior\n",
      "Dredd\n",
      "Barry Lyndon\n"
     ]
    }
   ],
   "source": [
    "from sklearn.metrics.pairwise import cosine_similarity\n",
    "\n",
    "def cosine_sim(v1, v2):\n",
    "    \n",
    "    v1, v2 = np.array(v1).reshape(1, -1), np.array(v2).reshape(1, -1)\n",
    "    \n",
    "    return cosine_similarity(v1, v2)[0][0]\n",
    "\n",
    "# Get the PCA encoding of the previously watched film \"Avatar\"\n",
    "prev_watch_enc = df[df['title'] == \"Avatar\"]['overview_pca'].iloc[0]\n",
    "\n",
    "# Calculate cosine similarities with the encoding of \"Avatar\" for all movies\n",
    "sims = []\n",
    "for _, row in df.iterrows():\n",
    "    sim = cosine_sim(prev_watch_enc, row['overview_pca'])\n",
    "    sims.append(sim)\n",
    "\n",
    "df[\"cos_sim_to_avatar\"] = sims\n",
    "\n",
    "# Sort the DataFrame based on the similarity scores in descending order\n",
    "df_sorted_by_similarity = df.sort_values(by=\"cos_sim_to_avatar\", ascending=False)\n",
    "\n",
    "print(df_sorted_by_similarity[['title', 'cos_sim_to_avatar']].head(6))\n",
    "\n",
    "recommendations = df_sorted_by_similarity[df_sorted_by_similarity['title'] != \"Avatar\"]['title'].head(5)\n",
    "print(\"\\nRecommended Movies based on Cosine Similarity to 'Avatar':\")\n",
    "for title in recommendations:\n",
    "    print(title)\n"
   ]
  },
  {
   "cell_type": "markdown",
   "id": "40391e82",
   "metadata": {},
   "source": [
    "As i do not know these movies i am not sure if the recommendations are better. However seeing as the model is more complex i am assuming that the predictions for similar movies are better"
   ]
  },
  {
   "cell_type": "markdown",
   "id": "a7b1e343",
   "metadata": {},
   "source": [
    "# Q7 Unsupervised Learning as a Tool\n",
    "\n",
    "At the end of this brief forey into natural language processing, we will end with an interesting task: can a machine predict the genre of a movie based purely on the first 10 words of its overview?\n",
    "\n",
    "First, the following cell shuffles the dataset and splits it into a training and test set. The random seed and random state ensure that the train and test samples are the same for you all the time, and *probably* your classmates too. You can verify this by printing out the dataframes and checking it for yourself."
   ]
  },
  {
   "cell_type": "code",
   "execution_count": 156,
   "id": "f5b1bde1",
   "metadata": {},
   "outputs": [
    {
     "name": "stdout",
     "output_type": "stream",
     "text": [
      "3765 942\n"
     ]
    }
   ],
   "source": [
    "np.random.seed(0)\n",
    "n_train = int(0.8*len(df))\n",
    "df_shuffle = df.sample(frac=1, random_state=42).reset_index(drop=True)\n",
    "df_train = df_shuffle[:n_train].reset_index(drop=True)\n",
    "df_test = df_shuffle[n_train:].reset_index(drop=True)\n",
    "print(len(df_train), len(df_test))"
   ]
  },
  {
   "cell_type": "code",
   "execution_count": 158,
   "id": "c35bbd18",
   "metadata": {},
   "outputs": [
    {
     "data": {
      "text/html": [
       "<div>\n",
       "<style scoped>\n",
       "    .dataframe tbody tr th:only-of-type {\n",
       "        vertical-align: middle;\n",
       "    }\n",
       "\n",
       "    .dataframe tbody tr th {\n",
       "        vertical-align: top;\n",
       "    }\n",
       "\n",
       "    .dataframe thead th {\n",
       "        text-align: right;\n",
       "    }\n",
       "</style>\n",
       "<table border=\"1\" class=\"dataframe\">\n",
       "  <thead>\n",
       "    <tr style=\"text-align: right;\">\n",
       "      <th></th>\n",
       "      <th>title</th>\n",
       "      <th>overview</th>\n",
       "      <th>genres</th>\n",
       "      <th>proc_genres</th>\n",
       "      <th>one_hot_genres</th>\n",
       "      <th>proc_overview</th>\n",
       "      <th>overview_len</th>\n",
       "      <th>one_hot_overview</th>\n",
       "      <th>overview_pca</th>\n",
       "      <th>cluster_kmeans</th>\n",
       "      <th>cluster_gmm</th>\n",
       "      <th>cos_sim_to_avatar</th>\n",
       "    </tr>\n",
       "  </thead>\n",
       "  <tbody>\n",
       "    <tr>\n",
       "      <th>0</th>\n",
       "      <td>Sex Tape</td>\n",
       "      <td>When Jay and Annie first got together, their r...</td>\n",
       "      <td>[{\"id\": 35, \"name\": \"Comedy\"}]</td>\n",
       "      <td>Comedy</td>\n",
       "      <td>[0.0, 0.0, 0.0, 1.0, 0.0, 0.0, 0.0, 0.0, 0.0, ...</td>\n",
       "      <td>when jay and annie first got together their ro...</td>\n",
       "      <td>15</td>\n",
       "      <td>[0.0, 0.0, 0.0, 0.0, 0.0, 0.0, 0.0, 0.0, 0.0, ...</td>\n",
       "      <td>[-0.17759327117400944, -1.3345930121278589, -0...</td>\n",
       "      <td>9</td>\n",
       "      <td>17</td>\n",
       "      <td>-0.244874</td>\n",
       "    </tr>\n",
       "    <tr>\n",
       "      <th>1</th>\n",
       "      <td>Kiss the Girls</td>\n",
       "      <td>Forensic psychologist Alex Cross travels to No...</td>\n",
       "      <td>[{\"id\": 18, \"name\": \"Drama\"}, {\"id\": 9648, \"na...</td>\n",
       "      <td>Crime</td>\n",
       "      <td>[0.0, 0.0, 0.0, 0.0, 1.0, 0.0, 0.0, 0.0, 0.0, ...</td>\n",
       "      <td>forensic psychologist alex cross travels to no...</td>\n",
       "      <td>15</td>\n",
       "      <td>[0.0, 0.0, 0.0, 0.0, 0.0, 0.0, 0.0, 0.0, 0.0, ...</td>\n",
       "      <td>[-0.3035357664704101, -1.400787293478349, 0.10...</td>\n",
       "      <td>9</td>\n",
       "      <td>17</td>\n",
       "      <td>-0.180146</td>\n",
       "    </tr>\n",
       "    <tr>\n",
       "      <th>2</th>\n",
       "      <td>Juliet and Alfa Romeo</td>\n",
       "      <td>Tilen (18), an attractive high school student,...</td>\n",
       "      <td>[{\"id\": 35, \"name\": \"Comedy\"}, {\"id\": 18, \"nam...</td>\n",
       "      <td>Comedy</td>\n",
       "      <td>[0.0, 0.0, 0.0, 1.0, 0.0, 0.0, 0.0, 0.0, 0.0, ...</td>\n",
       "      <td>tilen 18 an attractive high school student swe...</td>\n",
       "      <td>15</td>\n",
       "      <td>[0.0, 0.0, 0.0, 0.0, 0.0, 0.0, 0.0, 0.0, 0.0, ...</td>\n",
       "      <td>[0.5180376645579564, -0.8156105025430274, 0.69...</td>\n",
       "      <td>1</td>\n",
       "      <td>14</td>\n",
       "      <td>0.025574</td>\n",
       "    </tr>\n",
       "    <tr>\n",
       "      <th>3</th>\n",
       "      <td>Red State</td>\n",
       "      <td>Set in Middle America, a group of teens receiv...</td>\n",
       "      <td>[{\"id\": 27, \"name\": \"Horror\"}, {\"id\": 28, \"nam...</td>\n",
       "      <td>Action</td>\n",
       "      <td>[1.0, 0.0, 0.0, 0.0, 0.0, 0.0, 0.0, 0.0, 0.0, ...</td>\n",
       "      <td>set in middle america a group of teens receive...</td>\n",
       "      <td>15</td>\n",
       "      <td>[0.0, 0.0, 0.0, 0.0, 0.0, 0.0, 0.0, 0.0, 0.0, ...</td>\n",
       "      <td>[-0.37299993432051504, 0.1406679079129115, -0....</td>\n",
       "      <td>4</td>\n",
       "      <td>9</td>\n",
       "      <td>-0.123551</td>\n",
       "    </tr>\n",
       "    <tr>\n",
       "      <th>4</th>\n",
       "      <td>Road House</td>\n",
       "      <td>The Double Deuce is the meanest, loudest and r...</td>\n",
       "      <td>[{\"id\": 28, \"name\": \"Action\"}, {\"id\": 53, \"nam...</td>\n",
       "      <td>Action</td>\n",
       "      <td>[1.0, 0.0, 0.0, 0.0, 0.0, 0.0, 0.0, 0.0, 0.0, ...</td>\n",
       "      <td>the double deuce is the meanest loudest and ro...</td>\n",
       "      <td>15</td>\n",
       "      <td>[0.0, 0.0, 0.0, 0.0, 0.0, 0.0, 0.0, 0.0, 0.0, ...</td>\n",
       "      <td>[2.379489442297968, 0.2926753181425293, -0.208...</td>\n",
       "      <td>19</td>\n",
       "      <td>3</td>\n",
       "      <td>0.140616</td>\n",
       "    </tr>\n",
       "    <tr>\n",
       "      <th>...</th>\n",
       "      <td>...</td>\n",
       "      <td>...</td>\n",
       "      <td>...</td>\n",
       "      <td>...</td>\n",
       "      <td>...</td>\n",
       "      <td>...</td>\n",
       "      <td>...</td>\n",
       "      <td>...</td>\n",
       "      <td>...</td>\n",
       "      <td>...</td>\n",
       "      <td>...</td>\n",
       "      <td>...</td>\n",
       "    </tr>\n",
       "    <tr>\n",
       "      <th>3760</th>\n",
       "      <td>Eddie the Eagle</td>\n",
       "      <td>Inspired by true events, Eddie the Eagle is a ...</td>\n",
       "      <td>[{\"id\": 35, \"name\": \"Comedy\"}, {\"id\": 18, \"nam...</td>\n",
       "      <td>History</td>\n",
       "      <td>[0.0, 0.0, 0.0, 0.0, 0.0, 0.0, 0.0, 0.0, 0.0, ...</td>\n",
       "      <td>inspired by true events eddie the eagle is a f...</td>\n",
       "      <td>15</td>\n",
       "      <td>[0.0, 0.0, 0.0, 0.0, 0.0, 0.0, 0.0, 0.0, 0.0, ...</td>\n",
       "      <td>[0.08892506492029345, 0.2492590610115094, 0.18...</td>\n",
       "      <td>3</td>\n",
       "      <td>15</td>\n",
       "      <td>0.069234</td>\n",
       "    </tr>\n",
       "    <tr>\n",
       "      <th>3761</th>\n",
       "      <td>Savva. Heart of the Warrior</td>\n",
       "      <td>A fairytale about a grand life journey of a 10...</td>\n",
       "      <td>[{\"id\": 14, \"name\": \"Fantasy\"}, {\"id\": 12, \"na...</td>\n",
       "      <td>Fantasy</td>\n",
       "      <td>[0.0, 0.0, 0.0, 0.0, 0.0, 0.0, 0.0, 0.0, 1.0, ...</td>\n",
       "      <td>a fairytale about a grand life journey of a 10...</td>\n",
       "      <td>15</td>\n",
       "      <td>[0.0, 0.0, 0.0, 0.0, 0.0, 0.0, 0.0, 0.0, 0.0, ...</td>\n",
       "      <td>[-1.6125551101826299, 1.5253392714817378, 0.46...</td>\n",
       "      <td>15</td>\n",
       "      <td>8</td>\n",
       "      <td>0.115062</td>\n",
       "    </tr>\n",
       "    <tr>\n",
       "      <th>3762</th>\n",
       "      <td>Grown Ups</td>\n",
       "      <td>After their high school basketball coach passe...</td>\n",
       "      <td>[{\"id\": 35, \"name\": \"Comedy\"}]</td>\n",
       "      <td>Comedy</td>\n",
       "      <td>[0.0, 0.0, 0.0, 1.0, 0.0, 0.0, 0.0, 0.0, 0.0, ...</td>\n",
       "      <td>after their high school basketball coach passe...</td>\n",
       "      <td>15</td>\n",
       "      <td>[0.0, 0.0, 0.0, 0.0, 0.0, 0.0, 0.0, 0.0, 0.0, ...</td>\n",
       "      <td>[-0.2046542840318538, -1.3027234560877594, -0....</td>\n",
       "      <td>9</td>\n",
       "      <td>17</td>\n",
       "      <td>-0.240840</td>\n",
       "    </tr>\n",
       "    <tr>\n",
       "      <th>3763</th>\n",
       "      <td>Out of the Blue</td>\n",
       "      <td>Dennis Hopper is a hard-drinking truck driver ...</td>\n",
       "      <td>[{\"id\": 18, \"name\": \"Drama\"}]</td>\n",
       "      <td>Drama</td>\n",
       "      <td>[0.0, 0.0, 0.0, 0.0, 0.0, 0.0, 1.0, 0.0, 0.0, ...</td>\n",
       "      <td>dennis hopper is a harddrinking truck driver w...</td>\n",
       "      <td>15</td>\n",
       "      <td>[0.0, 0.0, 0.0, 0.0, 0.0, 0.0, 0.0, 0.0, 0.0, ...</td>\n",
       "      <td>[0.2643746689646788, 0.3885646234467267, -0.01...</td>\n",
       "      <td>6</td>\n",
       "      <td>15</td>\n",
       "      <td>0.005606</td>\n",
       "    </tr>\n",
       "    <tr>\n",
       "      <th>3764</th>\n",
       "      <td>Dance Flick</td>\n",
       "      <td>Street dancer, Thomas Uncles is from the wrong...</td>\n",
       "      <td>[{\"id\": 28, \"name\": \"Action\"}, {\"id\": 35, \"nam...</td>\n",
       "      <td>Comedy</td>\n",
       "      <td>[0.0, 0.0, 0.0, 1.0, 0.0, 0.0, 0.0, 0.0, 0.0, ...</td>\n",
       "      <td>street dancer thomas uncles is from the wrong ...</td>\n",
       "      <td>15</td>\n",
       "      <td>[0.0, 0.0, 0.0, 0.0, 0.0, 0.0, 0.0, 0.0, 0.0, ...</td>\n",
       "      <td>[1.5941944639225694, -0.04997895452542359, 0.2...</td>\n",
       "      <td>18</td>\n",
       "      <td>7</td>\n",
       "      <td>0.023769</td>\n",
       "    </tr>\n",
       "  </tbody>\n",
       "</table>\n",
       "<p>3765 rows × 12 columns</p>\n",
       "</div>"
      ],
      "text/plain": [
       "                            title  \\\n",
       "0                        Sex Tape   \n",
       "1                  Kiss the Girls   \n",
       "2           Juliet and Alfa Romeo   \n",
       "3                       Red State   \n",
       "4                      Road House   \n",
       "...                           ...   \n",
       "3760              Eddie the Eagle   \n",
       "3761  Savva. Heart of the Warrior   \n",
       "3762                    Grown Ups   \n",
       "3763              Out of the Blue   \n",
       "3764                  Dance Flick   \n",
       "\n",
       "                                               overview  \\\n",
       "0     When Jay and Annie first got together, their r...   \n",
       "1     Forensic psychologist Alex Cross travels to No...   \n",
       "2     Tilen (18), an attractive high school student,...   \n",
       "3     Set in Middle America, a group of teens receiv...   \n",
       "4     The Double Deuce is the meanest, loudest and r...   \n",
       "...                                                 ...   \n",
       "3760  Inspired by true events, Eddie the Eagle is a ...   \n",
       "3761  A fairytale about a grand life journey of a 10...   \n",
       "3762  After their high school basketball coach passe...   \n",
       "3763  Dennis Hopper is a hard-drinking truck driver ...   \n",
       "3764  Street dancer, Thomas Uncles is from the wrong...   \n",
       "\n",
       "                                                 genres proc_genres  \\\n",
       "0                        [{\"id\": 35, \"name\": \"Comedy\"}]      Comedy   \n",
       "1     [{\"id\": 18, \"name\": \"Drama\"}, {\"id\": 9648, \"na...       Crime   \n",
       "2     [{\"id\": 35, \"name\": \"Comedy\"}, {\"id\": 18, \"nam...      Comedy   \n",
       "3     [{\"id\": 27, \"name\": \"Horror\"}, {\"id\": 28, \"nam...      Action   \n",
       "4     [{\"id\": 28, \"name\": \"Action\"}, {\"id\": 53, \"nam...      Action   \n",
       "...                                                 ...         ...   \n",
       "3760  [{\"id\": 35, \"name\": \"Comedy\"}, {\"id\": 18, \"nam...     History   \n",
       "3761  [{\"id\": 14, \"name\": \"Fantasy\"}, {\"id\": 12, \"na...     Fantasy   \n",
       "3762                     [{\"id\": 35, \"name\": \"Comedy\"}]      Comedy   \n",
       "3763                      [{\"id\": 18, \"name\": \"Drama\"}]       Drama   \n",
       "3764  [{\"id\": 28, \"name\": \"Action\"}, {\"id\": 35, \"nam...      Comedy   \n",
       "\n",
       "                                         one_hot_genres  \\\n",
       "0     [0.0, 0.0, 0.0, 1.0, 0.0, 0.0, 0.0, 0.0, 0.0, ...   \n",
       "1     [0.0, 0.0, 0.0, 0.0, 1.0, 0.0, 0.0, 0.0, 0.0, ...   \n",
       "2     [0.0, 0.0, 0.0, 1.0, 0.0, 0.0, 0.0, 0.0, 0.0, ...   \n",
       "3     [1.0, 0.0, 0.0, 0.0, 0.0, 0.0, 0.0, 0.0, 0.0, ...   \n",
       "4     [1.0, 0.0, 0.0, 0.0, 0.0, 0.0, 0.0, 0.0, 0.0, ...   \n",
       "...                                                 ...   \n",
       "3760  [0.0, 0.0, 0.0, 0.0, 0.0, 0.0, 0.0, 0.0, 0.0, ...   \n",
       "3761  [0.0, 0.0, 0.0, 0.0, 0.0, 0.0, 0.0, 0.0, 1.0, ...   \n",
       "3762  [0.0, 0.0, 0.0, 1.0, 0.0, 0.0, 0.0, 0.0, 0.0, ...   \n",
       "3763  [0.0, 0.0, 0.0, 0.0, 0.0, 0.0, 1.0, 0.0, 0.0, ...   \n",
       "3764  [0.0, 0.0, 0.0, 1.0, 0.0, 0.0, 0.0, 0.0, 0.0, ...   \n",
       "\n",
       "                                          proc_overview  overview_len  \\\n",
       "0     when jay and annie first got together their ro...            15   \n",
       "1     forensic psychologist alex cross travels to no...            15   \n",
       "2     tilen 18 an attractive high school student swe...            15   \n",
       "3     set in middle america a group of teens receive...            15   \n",
       "4     the double deuce is the meanest loudest and ro...            15   \n",
       "...                                                 ...           ...   \n",
       "3760  inspired by true events eddie the eagle is a f...            15   \n",
       "3761  a fairytale about a grand life journey of a 10...            15   \n",
       "3762  after their high school basketball coach passe...            15   \n",
       "3763  dennis hopper is a harddrinking truck driver w...            15   \n",
       "3764  street dancer thomas uncles is from the wrong ...            15   \n",
       "\n",
       "                                       one_hot_overview  \\\n",
       "0     [0.0, 0.0, 0.0, 0.0, 0.0, 0.0, 0.0, 0.0, 0.0, ...   \n",
       "1     [0.0, 0.0, 0.0, 0.0, 0.0, 0.0, 0.0, 0.0, 0.0, ...   \n",
       "2     [0.0, 0.0, 0.0, 0.0, 0.0, 0.0, 0.0, 0.0, 0.0, ...   \n",
       "3     [0.0, 0.0, 0.0, 0.0, 0.0, 0.0, 0.0, 0.0, 0.0, ...   \n",
       "4     [0.0, 0.0, 0.0, 0.0, 0.0, 0.0, 0.0, 0.0, 0.0, ...   \n",
       "...                                                 ...   \n",
       "3760  [0.0, 0.0, 0.0, 0.0, 0.0, 0.0, 0.0, 0.0, 0.0, ...   \n",
       "3761  [0.0, 0.0, 0.0, 0.0, 0.0, 0.0, 0.0, 0.0, 0.0, ...   \n",
       "3762  [0.0, 0.0, 0.0, 0.0, 0.0, 0.0, 0.0, 0.0, 0.0, ...   \n",
       "3763  [0.0, 0.0, 0.0, 0.0, 0.0, 0.0, 0.0, 0.0, 0.0, ...   \n",
       "3764  [0.0, 0.0, 0.0, 0.0, 0.0, 0.0, 0.0, 0.0, 0.0, ...   \n",
       "\n",
       "                                           overview_pca  cluster_kmeans  \\\n",
       "0     [-0.17759327117400944, -1.3345930121278589, -0...               9   \n",
       "1     [-0.3035357664704101, -1.400787293478349, 0.10...               9   \n",
       "2     [0.5180376645579564, -0.8156105025430274, 0.69...               1   \n",
       "3     [-0.37299993432051504, 0.1406679079129115, -0....               4   \n",
       "4     [2.379489442297968, 0.2926753181425293, -0.208...              19   \n",
       "...                                                 ...             ...   \n",
       "3760  [0.08892506492029345, 0.2492590610115094, 0.18...               3   \n",
       "3761  [-1.6125551101826299, 1.5253392714817378, 0.46...              15   \n",
       "3762  [-0.2046542840318538, -1.3027234560877594, -0....               9   \n",
       "3763  [0.2643746689646788, 0.3885646234467267, -0.01...               6   \n",
       "3764  [1.5941944639225694, -0.04997895452542359, 0.2...              18   \n",
       "\n",
       "      cluster_gmm  cos_sim_to_avatar  \n",
       "0              17          -0.244874  \n",
       "1              17          -0.180146  \n",
       "2              14           0.025574  \n",
       "3               9          -0.123551  \n",
       "4               3           0.140616  \n",
       "...           ...                ...  \n",
       "3760           15           0.069234  \n",
       "3761            8           0.115062  \n",
       "3762           17          -0.240840  \n",
       "3763           15           0.005606  \n",
       "3764            7           0.023769  \n",
       "\n",
       "[3765 rows x 12 columns]"
      ]
     },
     "execution_count": 158,
     "metadata": {},
     "output_type": "execute_result"
    }
   ],
   "source": [
    "df_train\n"
   ]
  },
  {
   "cell_type": "markdown",
   "id": "92f9d534",
   "metadata": {},
   "source": [
    "## Train, test, evaluate\n",
    "\n",
    "Using a supervised learning method of your choice, try predicting the genre of a movie from the overview. The way you preprocess your data is up to you, and you can take inspiration from the above exercises (e.g. PCA on the one-hot encodings as input, one-hot label encodings as output). There are a number of hyperparameters you can choose depending on your selected method (number of words in your overview, number of dimensions, number of clusters, hyperparameters of your supervised model...), thus, make sure to perform hyperparameter optimization in some way (grid-search, fine-tuning, etc). Once you are happy with how your model is performing, **print out the train_score (accuracy$\\in[0,1]$), test_score (accuracy$\\in[0,1]$), mean training time (in seconds), and mean inference time (in seconds) of your model**.\n",
    "\n",
    "If you are already excited about neural networks, you may also choose to use that as your supervised method. The easiest way to do it is with sklearn's `MLPClassifier` module. The main hyperparameter you would need to tune is the architecture of your model -- how many hidden layers, and how large is each one. For this task, in order to get best performance, you do not necessarily need an MLP (multi-layer perceptron) but feel free to experiment.\n",
    "\n",
    "*Hint: the `train_and_eval` function from the last assignment should be of great help here*"
   ]
  },
  {
   "cell_type": "code",
   "execution_count": 163,
   "id": "e9ac379d",
   "metadata": {},
   "outputs": [
    {
     "name": "stderr",
     "output_type": "stream",
     "text": [
      "/Users/tomsagasser/anaconda3/lib/python3.11/site-packages/sklearn/model_selection/_split.py:725: UserWarning: The least populated class in y has only 2 members, which is less than n_splits=3.\n",
      "  warnings.warn(\n",
      "/Users/tomsagasser/anaconda3/lib/python3.11/site-packages/sklearn/neural_network/_multilayer_perceptron.py:691: ConvergenceWarning: Stochastic Optimizer: Maximum iterations (300) reached and the optimization hasn't converged yet.\n",
      "  warnings.warn(\n",
      "/Users/tomsagasser/anaconda3/lib/python3.11/site-packages/sklearn/neural_network/_multilayer_perceptron.py:691: ConvergenceWarning: Stochastic Optimizer: Maximum iterations (300) reached and the optimization hasn't converged yet.\n",
      "  warnings.warn(\n",
      "/Users/tomsagasser/anaconda3/lib/python3.11/site-packages/sklearn/neural_network/_multilayer_perceptron.py:691: ConvergenceWarning: Stochastic Optimizer: Maximum iterations (300) reached and the optimization hasn't converged yet.\n",
      "  warnings.warn(\n",
      "/Users/tomsagasser/anaconda3/lib/python3.11/site-packages/sklearn/neural_network/_multilayer_perceptron.py:691: ConvergenceWarning: Stochastic Optimizer: Maximum iterations (300) reached and the optimization hasn't converged yet.\n",
      "  warnings.warn(\n",
      "/Users/tomsagasser/anaconda3/lib/python3.11/site-packages/sklearn/neural_network/_multilayer_perceptron.py:691: ConvergenceWarning: Stochastic Optimizer: Maximum iterations (300) reached and the optimization hasn't converged yet.\n",
      "  warnings.warn(\n",
      "/Users/tomsagasser/anaconda3/lib/python3.11/site-packages/sklearn/neural_network/_multilayer_perceptron.py:691: ConvergenceWarning: Stochastic Optimizer: Maximum iterations (300) reached and the optimization hasn't converged yet.\n",
      "  warnings.warn(\n",
      "/Users/tomsagasser/anaconda3/lib/python3.11/site-packages/sklearn/neural_network/_multilayer_perceptron.py:691: ConvergenceWarning: Stochastic Optimizer: Maximum iterations (300) reached and the optimization hasn't converged yet.\n",
      "  warnings.warn(\n",
      "/Users/tomsagasser/anaconda3/lib/python3.11/site-packages/sklearn/neural_network/_multilayer_perceptron.py:691: ConvergenceWarning: Stochastic Optimizer: Maximum iterations (300) reached and the optimization hasn't converged yet.\n",
      "  warnings.warn(\n",
      "/Users/tomsagasser/anaconda3/lib/python3.11/site-packages/sklearn/neural_network/_multilayer_perceptron.py:691: ConvergenceWarning: Stochastic Optimizer: Maximum iterations (300) reached and the optimization hasn't converged yet.\n",
      "  warnings.warn(\n",
      "/Users/tomsagasser/anaconda3/lib/python3.11/site-packages/sklearn/neural_network/_multilayer_perceptron.py:691: ConvergenceWarning: Stochastic Optimizer: Maximum iterations (300) reached and the optimization hasn't converged yet.\n",
      "  warnings.warn(\n",
      "/Users/tomsagasser/anaconda3/lib/python3.11/site-packages/sklearn/neural_network/_multilayer_perceptron.py:691: ConvergenceWarning: Stochastic Optimizer: Maximum iterations (300) reached and the optimization hasn't converged yet.\n",
      "  warnings.warn(\n",
      "/Users/tomsagasser/anaconda3/lib/python3.11/site-packages/sklearn/neural_network/_multilayer_perceptron.py:691: ConvergenceWarning: Stochastic Optimizer: Maximum iterations (300) reached and the optimization hasn't converged yet.\n",
      "  warnings.warn(\n",
      "/Users/tomsagasser/anaconda3/lib/python3.11/site-packages/sklearn/neural_network/_multilayer_perceptron.py:691: ConvergenceWarning: Stochastic Optimizer: Maximum iterations (300) reached and the optimization hasn't converged yet.\n",
      "  warnings.warn(\n"
     ]
    },
    {
     "name": "stdout",
     "output_type": "stream",
     "text": [
      "Train Score: 0.4047808764940239, Test Score: 0.19851380042462846\n",
      "Mean Training Time: 0.0010638120310737568s, Mean Train Score Time: 1.2927702533768845e-06s, Mean Test Score Time: 2.109008487027273e-06s\n"
     ]
    },
    {
     "name": "stderr",
     "output_type": "stream",
     "text": [
      "/Users/tomsagasser/anaconda3/lib/python3.11/site-packages/sklearn/neural_network/_multilayer_perceptron.py:691: ConvergenceWarning: Stochastic Optimizer: Maximum iterations (300) reached and the optimization hasn't converged yet.\n",
      "  warnings.warn(\n"
     ]
    }
   ],
   "source": [
    "from sklearn.decomposition import PCA\n",
    "from sklearn.model_selection import GridSearchCV\n",
    "from sklearn.neural_network import MLPClassifier\n",
    "from sklearn.preprocessing import LabelEncoder\n",
    "\n",
    "def train_and_eval(model, train_X, train_y, test_X, test_y):\n",
    "    # Training time\n",
    "    start = perf_counter()\n",
    "    model.fit(train_X, train_y)\n",
    "    end = perf_counter()\n",
    "    fit_time = (end - start) / len(train_X)\n",
    "\n",
    "    start = perf_counter()\n",
    "    train_score = model.score(train_X, train_y)\n",
    "    end = perf_counter()\n",
    "    train_score_time = (end - start) / len(train_X)\n",
    "\n",
    "    start = perf_counter()\n",
    "    test_score = model.score(test_X, test_y)\n",
    "    end = perf_counter()\n",
    "    test_score_time = (end - start) / len(test_X)\n",
    "\n",
    "    return train_score, test_score, fit_time, train_score_time, test_score_time\n",
    "\n",
    "\n",
    "pca = PCA(n_components=50) \n",
    "train_overview_pca = pca.fit_transform(df_train['one_hot_overview'].tolist())  \n",
    "test_overview_pca = pca.transform(df_test['one_hot_overview'].tolist()) \n",
    "\n",
    "\n",
    "label_encoder = LabelEncoder()\n",
    "train_genres_encoded = label_encoder.fit_transform(df_train['proc_genres'])\n",
    "test_genres_encoded = label_encoder.transform(df_test['proc_genres']) \n",
    "\n",
    "\n",
    "model = MLPClassifier(random_state=42, max_iter=300)\n",
    "parameters = {\n",
    "    'hidden_layer_sizes': [(50,), (100,)],\n",
    "    'alpha': [0.0001, 0.001],\n",
    "}\n",
    "\n",
    "\n",
    "grid_search = GridSearchCV(model, parameters, cv=3)\n",
    "grid_search.fit(train_overview_pca, train_genres_encoded)\n",
    "\n",
    "best_model = grid_search.best_estimator_\n",
    "\n",
    "train_score, test_score, fit_time, train_score_time, test_score_time = train_and_eval(\n",
    "    best_model,\n",
    "    train_overview_pca,\n",
    "    train_genres_encoded,\n",
    "    test_overview_pca,\n",
    "    test_genres_encoded\n",
    ")\n",
    "\n",
    "print(f\"Train Score: {train_score}, Test Score: {test_score}\")\n",
    "print(f\"Mean Training Time: {fit_time}s, Mean Train Score Time: {train_score_time}s, Mean Test Score Time: {test_score_time}s\")"
   ]
  },
  {
   "cell_type": "markdown",
   "id": "5976997e",
   "metadata": {},
   "source": [
    "Write a paragraph of ~150 words about how you went about selecting and tuning your model, and how you may want to make improvements to your model if you were to continue working on this. Plots are very good but not strictly necessary (i.e. try to add plots if you can)."
   ]
  },
  {
   "cell_type": "markdown",
   "id": "54186a60",
   "metadata": {},
   "source": [
    "When selecting what model to use, i decided to try the new MLP classifier, as it seemed decently efficient to implement. I used PCA as it is efficient and it reduces the dimensionality of the OH encoded overviews. I selected 50 compontents to not overwhelm the model with too much data, however this could of course be increased by a lot depending on your goal. To tune the MLP model, i found a simple explanation, where i had to use the size of hidden layers and the alpha for regularization as my hyper parameters. To improve the model, you could make it more complex and make it work with more data by increassing the number of hyperparameters for the grid search or increasing the number of iterations and PCA components."
   ]
  },
  {
   "cell_type": "markdown",
   "id": "14b50007",
   "metadata": {},
   "source": [
    "# BONUS\n",
    "\n",
    "If you are happy with your score and wish to see how well it is doing with respect to other people (a sort of mini-competition), fill out the following form with the train_score (accuracy$\\in[0,1]$), test_score (accuracy$\\in[0,1]$), mean training time (in seconds), and mean inference time (in seconds) of your model, as well as what method you use. You can submit as many times before the deadline as you wish. Your final results will be correlated with your submission in order to validate your results (if we cannot validate them, they will be immediately disqualified).\n",
    "\n",
    "[FORM HERE](https://forms.gle/rXRtXScABH5oDLRWA)"
   ]
  }
 ],
 "metadata": {
  "kernelspec": {
   "display_name": "Python 3 (ipykernel)",
   "language": "python",
   "name": "python3"
  },
  "language_info": {
   "codemirror_mode": {
    "name": "ipython",
    "version": 3
   },
   "file_extension": ".py",
   "mimetype": "text/x-python",
   "name": "python",
   "nbconvert_exporter": "python",
   "pygments_lexer": "ipython3",
   "version": "3.11.4"
  }
 },
 "nbformat": 4,
 "nbformat_minor": 5
}
